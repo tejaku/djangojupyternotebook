{
 "cells": [
  {
   "cell_type": "markdown",
   "id": "eaa5af63",
   "metadata": {},
   "source": [
    "# strings\n",
    "    - It can be represented with a ' or \"\n",
    "    - It can be typecasted as str()\n",
    "    -It has indexing and slicing can be done\n",
    "    -It can be changes the character but it doesnot effect to original string"
   ]
  },
  {
   "cell_type": "code",
   "execution_count": 3,
   "id": "eda65727",
   "metadata": {},
   "outputs": [
    {
     "name": "stdout",
     "output_type": "stream",
     "text": [
      "APSSDC INTERNSHIP\n"
     ]
    }
   ],
   "source": [
    "n=\"APSSDC INTERNSHIP\"\n",
    "print(n)"
   ]
  },
  {
   "cell_type": "code",
   "execution_count": 5,
   "id": "9dde1258",
   "metadata": {},
   "outputs": [
    {
     "name": "stdout",
     "output_type": "stream",
     "text": [
      "S\n"
     ]
    }
   ],
   "source": [
    "print(n[3])"
   ]
  },
  {
   "cell_type": "code",
   "execution_count": 7,
   "id": "47a1f7c8",
   "metadata": {},
   "outputs": [
    {
     "name": "stdout",
     "output_type": "stream",
     "text": [
      "E\n"
     ]
    }
   ],
   "source": [
    "print(n[-7])"
   ]
  },
  {
   "cell_type": "markdown",
   "id": "2b86c4f5",
   "metadata": {},
   "source": [
    "    -range(a)\n",
    "    -range(a,b)\n",
    "    -range(a,b,c)\n",
    "    -Inclusive range -> exact index\n",
    "    -exclusive range -> given index range -1"
   ]
  },
  {
   "cell_type": "code",
   "execution_count": 8,
   "id": "c7f55abd",
   "metadata": {},
   "outputs": [
    {
     "name": "stdout",
     "output_type": "stream",
     "text": [
      "APSSDC INTERNSHIP\n"
     ]
    }
   ],
   "source": [
    "print(n[:])"
   ]
  },
  {
   "cell_type": "code",
   "execution_count": 26,
   "id": "8b652739",
   "metadata": {},
   "outputs": [
    {
     "name": "stdout",
     "output_type": "stream",
     "text": [
      "SDC INTERNSHIP\n",
      "APSSDC INT\n",
      "SSDC INTERNS\n",
      "SDC INTER\n",
      "N\n",
      "ER\n",
      "SD NENHP\n",
      "AS TNI\n"
     ]
    }
   ],
   "source": [
    "print(n[3:])\n",
    "print(n[:10])\n",
    "print(n[2:14])\n",
    "print(n[3:-5])\n",
    "print(n[12:-4])\n",
    "print(n[-7:12])\n",
    "print(n[2:17:2])\n",
    "print(n[::3])"
   ]
  },
  {
   "cell_type": "code",
   "execution_count": 42,
   "id": "1ee84661",
   "metadata": {},
   "outputs": [
    {
     "name": "stdout",
     "output_type": "stream",
     "text": [
      "S.S.D.C. .I.N.T.E.R.N.S.H."
     ]
    }
   ],
   "source": [
    "for k in range(2,15):\n",
    "    print(n[k],end='.')"
   ]
  },
  {
   "cell_type": "code",
   "execution_count": 31,
   "id": "4f94ef13",
   "metadata": {},
   "outputs": [
    {
     "name": "stdout",
     "output_type": "stream",
     "text": [
      "122321335459204711325352523528 <class 'str'>\n",
      "825325253523117402954533123221 <class 'int'>\n"
     ]
    }
   ],
   "source": [
    "m=str(122321335459204711325352523528)\n",
    "print(m,type(m))\n",
    "k=int(m[::-1])\n",
    "print(k,type(k))"
   ]
  },
  {
   "cell_type": "code",
   "execution_count": 36,
   "id": "0aa1c17a",
   "metadata": {},
   "outputs": [
    {
     "name": "stdout",
     "output_type": "stream",
     "text": [
      "PIHSNRETNI CDSSPA\n",
      "CS\n",
      "EN DSA\n"
     ]
    }
   ],
   "source": [
    "print(n[::-1])\n",
    "print(n[5::-3])\n",
    "print(n[10::-2])"
   ]
  },
  {
   "cell_type": "code",
   "execution_count": 41,
   "id": "a05a452c",
   "metadata": {},
   "outputs": [
    {
     "name": "stdout",
     "output_type": "stream",
     "text": [
      "INTERNSH\n"
     ]
    }
   ],
   "source": [
    "print(n[-10:-2:])"
   ]
  },
  {
   "cell_type": "code",
   "execution_count": 50,
   "id": "11942f27",
   "metadata": {},
   "outputs": [
    {
     "name": "stdout",
     "output_type": "stream",
     "text": [
      "APSSDC INTERNSHIP\n",
      "IP\n"
     ]
    }
   ],
   "source": [
    "n=input()\n",
    "print(n[-2:])"
   ]
  },
  {
   "cell_type": "code",
   "execution_count": 51,
   "id": "8b6f800d",
   "metadata": {},
   "outputs": [
    {
     "name": "stdout",
     "output_type": "stream",
     "text": [
      "APS.SSDC INTERNSH.IP\n"
     ]
    }
   ],
   "source": [
    "print(n[0:3]+\".\"+n[2:-2]+\".\"+n[-2:])"
   ]
  },
  {
   "cell_type": "code",
   "execution_count": 52,
   "id": "7e491f1c",
   "metadata": {},
   "outputs": [
    {
     "name": "stdout",
     "output_type": "stream",
     "text": [
      "['__add__', '__class__', '__contains__', '__delattr__', '__dir__', '__doc__', '__eq__', '__format__', '__ge__', '__getattribute__', '__getitem__', '__getnewargs__', '__gt__', '__hash__', '__init__', '__init_subclass__', '__iter__', '__le__', '__len__', '__lt__', '__mod__', '__mul__', '__ne__', '__new__', '__reduce__', '__reduce_ex__', '__repr__', '__rmod__', '__rmul__', '__setattr__', '__sizeof__', '__str__', '__subclasshook__', 'capitalize', 'casefold', 'center', 'count', 'encode', 'endswith', 'expandtabs', 'find', 'format', 'format_map', 'index', 'isalnum', 'isalpha', 'isascii', 'isdecimal', 'isdigit', 'isidentifier', 'islower', 'isnumeric', 'isprintable', 'isspace', 'istitle', 'isupper', 'join', 'ljust', 'lower', 'lstrip', 'maketrans', 'partition', 'replace', 'rfind', 'rindex', 'rjust', 'rpartition', 'rsplit', 'rstrip', 'split', 'splitlines', 'startswith', 'strip', 'swapcase', 'title', 'translate', 'upper', 'zfill']\n"
     ]
    }
   ],
   "source": [
    "print(dir(str))"
   ]
  },
  {
   "cell_type": "code",
   "execution_count": 61,
   "id": "91458a16",
   "metadata": {},
   "outputs": [
    {
     "name": "stdout",
     "output_type": "stream",
     "text": [
      "welcome to Apssdc program\n",
      "Welcome to apssdc program\n",
      "welcome to apssdc program\n",
      "Welcome To Apssdc Program\n",
      "WELCOME TO aPSSDC PROGRAM\n"
     ]
    }
   ],
   "source": [
    "b=\"welcome to Apssdc program\"\n",
    "print(b)\n",
    "print(b.capitalize())\n",
    "print(b.casefold())\n",
    "print(b.title())\n",
    "print(b.swapcase())"
   ]
  },
  {
   "cell_type": "code",
   "execution_count": 69,
   "id": "9ef5ad59",
   "metadata": {},
   "outputs": [
    {
     "name": "stdout",
     "output_type": "stream",
     "text": [
      "WELCOME TO APSSDC PROGRAM\n",
      "welcome to apssdc program\n",
      "True\n",
      "['w', 'lcom', ' to Apssdc program']\n"
     ]
    }
   ],
   "source": [
    "print(b.upper())\n",
    "print(b.lower())\n",
    "print(b.startswith('w'))\n",
    "print(b.split('e'))"
   ]
  },
  {
   "cell_type": "code",
   "execution_count": 78,
   "id": "e3cdf1d5",
   "metadata": {},
   "outputs": [
    {
     "name": "stdout",
     "output_type": "stream",
     "text": [
      "12345567798\n",
      "['123', '5567798']\n"
     ]
    }
   ],
   "source": [
    "n=input().split('4')\n",
    "print(n)"
   ]
  },
  {
   "cell_type": "code",
   "execution_count": 90,
   "id": "ed2ac6dd",
   "metadata": {},
   "outputs": [
    {
     "name": "stdout",
     "output_type": "stream",
     "text": [
      "welcome to Apssdc program\n",
      "2\n",
      "8\n",
      "1\n",
      "6\n",
      "23\n"
     ]
    }
   ],
   "source": [
    "print(b)\n",
    "print(b.count('e'))\n",
    "print(b.find('t'))\n",
    "print(b.find('e'))\n",
    "print(b.rfind('e'))\n",
    "print(b.index('a'))"
   ]
  },
  {
   "cell_type": "code",
   "execution_count": 100,
   "id": "3ccb2eab",
   "metadata": {},
   "outputs": [
    {
     "name": "stdout",
     "output_type": "stream",
     "text": [
      "    sample\n",
      "ramu     \n",
      "sample\n",
      "ramu\n"
     ]
    }
   ],
   "source": [
    "d=\"    sample\"\n",
    "e=\"ramu     \"\n",
    "print(d)\n",
    "print(e)\n",
    "print(d.strip())\n",
    "print(e.strip())"
   ]
  },
  {
   "cell_type": "code",
   "execution_count": 109,
   "id": "ccf33eef",
   "metadata": {},
   "outputs": [
    {
     "name": "stdout",
     "output_type": "stream",
     "text": [
      "welcome to Apssdc program                         \n",
      "                         welcome to Apssdc program\n",
      "                          welcome to Apssdc program\n"
     ]
    }
   ],
   "source": [
    "print(b.ljust(50))\n",
    "print(b.rjust(50))\n",
    "print(b.rjust(51))"
   ]
  },
  {
   "cell_type": "code",
   "execution_count": 114,
   "id": "59227b3f",
   "metadata": {},
   "outputs": [
    {
     "name": "stdout",
     "output_type": "stream",
     "text": [
      "apssdc\n",
      "0\n"
     ]
    }
   ],
   "source": [
    "z=\"APSSDC\"\n",
    "p=z.lower()\n",
    "print(p)\n",
    "print(p.index('a'))"
   ]
  },
  {
   "cell_type": "code",
   "execution_count": 115,
   "id": "029a8656",
   "metadata": {},
   "outputs": [
    {
     "name": "stdout",
     "output_type": "stream",
     "text": [
      "XPSSDC\n"
     ]
    }
   ],
   "source": [
    "print(z.replace('A','X'))"
   ]
  },
  {
   "cell_type": "code",
   "execution_count": 118,
   "id": "e9478c6c",
   "metadata": {},
   "outputs": [
    {
     "name": "stdout",
     "output_type": "stream",
     "text": [
      "00000000000000APSSDC\n"
     ]
    }
   ],
   "source": [
    "g=z.zfill(20)\n",
    "print(g)"
   ]
  },
  {
   "cell_type": "code",
   "execution_count": 120,
   "id": "3c7663cb",
   "metadata": {},
   "outputs": [
    {
     "name": "stdout",
     "output_type": "stream",
     "text": [
      "r a m e s h\n"
     ]
    }
   ],
   "source": [
    "t = 'ramesh'\n",
    "l=\" \".join(t)\n",
    "print(l)"
   ]
  },
  {
   "cell_type": "code",
   "execution_count": 2,
   "id": "7718303a",
   "metadata": {},
   "outputs": [
    {
     "name": "stdout",
     "output_type": "stream",
     "text": [
      "teja kunchala\n",
      "['teja', 'kunchala']\n"
     ]
    }
   ],
   "source": [
    "n=input().split(\" \")\n",
    "print(n)"
   ]
  },
  {
   "cell_type": "code",
   "execution_count": null,
   "id": "8487373e",
   "metadata": {},
   "outputs": [],
   "source": [
    "        "
   ]
  },
  {
   "cell_type": "code",
   "execution_count": null,
   "id": "6f0a4cd6",
   "metadata": {},
   "outputs": [],
   "source": []
  }
 ],
 "metadata": {
  "kernelspec": {
   "display_name": "Python 3",
   "language": "python",
   "name": "python3"
  },
  "language_info": {
   "codemirror_mode": {
    "name": "ipython",
    "version": 3
   },
   "file_extension": ".py",
   "mimetype": "text/x-python",
   "name": "python",
   "nbconvert_exporter": "python",
   "pygments_lexer": "ipython3",
   "version": "3.7.5"
  }
 },
 "nbformat": 4,
 "nbformat_minor": 5
}
