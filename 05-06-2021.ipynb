{
 "cells": [
  {
   "cell_type": "markdown",
   "id": "c75555f9",
   "metadata": {},
   "source": [
    "# files,packages and modules:"
   ]
  },
  {
   "cell_type": "markdown",
   "id": "74368bd1",
   "metadata": {},
   "source": [
    "# Files:\n",
    "    - to store values or data in permanently\n",
    "    - file formats .py,.text,.java,.csv\n",
    "    - 3 modes\n",
    "        - read mode - r -> if file is not exists it displays an error.If file exists it reads the data in a file\n",
    "        -write - w -> if file doesnot exists it creates a file with user defined file name.If file exists it writes to a file.previous data will be erased and new data will be added\n",
    "        -append - a -> if file exists it creates a file with used define filename.if file exists it writes to afile.it will adds new data for existing ones\n",
    "        -Execute -x ->If the file is not exist with filename then it creates a file with user defined file name."
   ]
  },
  {
   "cell_type": "code",
   "execution_count": 8,
   "id": "2b807725",
   "metadata": {},
   "outputs": [],
   "source": [
    "with open('raw data/sample.text','w') as ft:\n",
    "    ft.write(\"hello good evening\")"
   ]
  },
  {
   "cell_type": "code",
   "execution_count": 22,
   "id": "6b31fc5f",
   "metadata": {},
   "outputs": [
    {
     "name": "stdout",
     "output_type": "stream",
     "text": [
      "welcome Teja\n"
     ]
    }
   ],
   "source": [
    "with open('raw data/sample2.text','r') as ft:\n",
    "    print(ft.read())"
   ]
  },
  {
   "cell_type": "code",
   "execution_count": 13,
   "id": "f8420586",
   "metadata": {},
   "outputs": [],
   "source": [
    "with open('raw data/sample.text','a') as fa:\n",
    "    fa.write(\"welcome to APSSDC programs\")"
   ]
  },
  {
   "cell_type": "code",
   "execution_count": 15,
   "id": "6c99058e",
   "metadata": {},
   "outputs": [],
   "source": [
    "with open('raw data/demo.text','w') as d:\n",
    "    d.write(\"HI\")"
   ]
  },
  {
   "cell_type": "code",
   "execution_count": 21,
   "id": "341ffbd6",
   "metadata": {},
   "outputs": [],
   "source": [
    "with open('raw data/sample2.text','x') as fb:\n",
    "    with open('raw data/sample2.text','w') as g:\n",
    "        g.write(\"welcome Teja\")\n",
    "    \n",
    "    "
   ]
  },
  {
   "cell_type": "markdown",
   "id": "191deb24",
   "metadata": {},
   "source": [
    "```\n",
    "    Input.text:\n",
    "               20\n",
    "        \n",
    "    output.text:\n",
    "                Enter number is:20\n",
    "                Even numbers in range 20 is:2 4 6 8 10 12 14 16 18 20\n",
    "\n",
    "```"
   ]
  },
  {
   "cell_type": "code",
   "execution_count": 35,
   "id": "46f891b8",
   "metadata": {},
   "outputs": [
    {
     "name": "stdout",
     "output_type": "stream",
     "text": [
      "Enter a range: 2\n",
      "Enter a name:teja\n",
      "Enter a name:kunchala\n"
     ]
    }
   ],
   "source": [
    "with open('raw data/names.csv','w') as y:\n",
    "    n=int(input(\"Enter a range: \"))\n",
    "    for j in range(1,n+1):\n",
    "        m=input(\"Enter a name:\")\n",
    "        y.write(m+\"\\n\")"
   ]
  },
  {
   "cell_type": "code",
   "execution_count": 36,
   "id": "678de65a",
   "metadata": {},
   "outputs": [
    {
     "name": "stdout",
     "output_type": "stream",
     "text": [
      "['_CHUNK_SIZE', '__class__', '__del__', '__delattr__', '__dict__', '__dir__', '__doc__', '__enter__', '__eq__', '__exit__', '__format__', '__ge__', '__getattribute__', '__getstate__', '__gt__', '__hash__', '__init__', '__init_subclass__', '__iter__', '__le__', '__lt__', '__ne__', '__new__', '__next__', '__reduce__', '__reduce_ex__', '__repr__', '__setattr__', '__sizeof__', '__str__', '__subclasshook__', '_checkClosed', '_checkReadable', '_checkSeekable', '_checkWritable', '_finalizing', 'buffer', 'close', 'closed', 'detach', 'encoding', 'errors', 'fileno', 'flush', 'isatty', 'line_buffering', 'mode', 'name', 'newlines', 'read', 'readable', 'readline', 'readlines', 'reconfigure', 'seek', 'seekable', 'tell', 'truncate', 'writable', 'write', 'write_through', 'writelines']\n"
     ]
    }
   ],
   "source": [
    "print(dir(y))"
   ]
  },
  {
   "cell_type": "code",
   "execution_count": 40,
   "id": "8e2e53f9",
   "metadata": {},
   "outputs": [
    {
     "name": "stdout",
     "output_type": "stream",
     "text": [
      "teja\n",
      "\n"
     ]
    }
   ],
   "source": [
    "with open('raw data/names.csv','r') as y:\n",
    "    print(y.readline())"
   ]
  },
  {
   "cell_type": "code",
   "execution_count": 44,
   "id": "db3458ec",
   "metadata": {},
   "outputs": [
    {
     "name": "stdout",
     "output_type": "stream",
     "text": [
      "['teja', 'kunchala']\n"
     ]
    }
   ],
   "source": [
    "with open('raw data/names.csv','r') as k:\n",
    "    s=k.readlines()\n",
    "    q=[]\n",
    "    for v in s:\n",
    "        q.append(v.split('\\n')[0])\n",
    "    print(q)"
   ]
  },
  {
   "cell_type": "code",
   "execution_count": 45,
   "id": "b0325689",
   "metadata": {},
   "outputs": [
    {
     "name": "stdout",
     "output_type": "stream",
     "text": [
      "Enter a range:20\n"
     ]
    }
   ],
   "source": [
    "with open('raw data/input.text','w') as fw:\n",
    "    fw.write(input(\"Enter a range:\"))\n",
    "    "
   ]
  },
  {
   "cell_type": "code",
   "execution_count": 60,
   "id": "1cb784fc",
   "metadata": {},
   "outputs": [],
   "source": [
    "with open('raw data/input.text','r') as g:\n",
    "    f=g.readlines()\n",
    "    with open('raw data/ouput.text','w') as we:\n",
    "        we.write(\"Entered number is: {}\\n\".format(f[0]))\n",
    "        x = []\n",
    "        for n in range(1,int(f[0])+1):\n",
    "            if n%2==0:\n",
    "                h = str(n)+\",\"\n",
    "                x.append(h)\n",
    "        t= \" \".join(x)\n",
    "        we.write(\"Even numbers in range {} is: {}\".format(f[0],t))"
   ]
  },
  {
   "cell_type": "code",
   "execution_count": null,
   "id": "3f69fb83",
   "metadata": {},
   "outputs": [],
   "source": []
  },
  {
   "cell_type": "code",
   "execution_count": null,
   "id": "f26582be",
   "metadata": {},
   "outputs": [],
   "source": []
  }
 ],
 "metadata": {
  "kernelspec": {
   "display_name": "Python 3",
   "language": "python",
   "name": "python3"
  },
  "language_info": {
   "codemirror_mode": {
    "name": "ipython",
    "version": 3
   },
   "file_extension": ".py",
   "mimetype": "text/x-python",
   "name": "python",
   "nbconvert_exporter": "python",
   "pygments_lexer": "ipython3",
   "version": "3.7.5"
  }
 },
 "nbformat": 4,
 "nbformat_minor": 5
}
