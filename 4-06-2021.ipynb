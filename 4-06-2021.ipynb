{
 "cells": [
  {
   "cell_type": "markdown",
   "id": "a4d7056e",
   "metadata": {},
   "source": [
    "\n",
    "## functions:\n",
    "    -to perform a specific task\n",
    "    -reusability of code\n",
    "    -Number of lines can be decreased\n",
    "    -predefined functions,userdefined funcntions"
   ]
  },
  {
   "cell_type": "markdown",
   "id": "3de799aa",
   "metadata": {},
   "source": [
    "\n",
    "## Predefined functions:\n",
    "    -Already work has been allocated for it\n",
    "    -print(),range(),int(),str(),max()"
   ]
  },
  {
   "cell_type": "markdown",
   "id": "e5907dbd",
   "metadata": {},
   "source": [
    "## user defined functions:\n",
    "    -we need to allocate work for a function\n",
    "    -syntax:\n",
    "            def function_name(arguments):\n",
    "                //stmts\n",
    "                return return_value"
   ]
  },
  {
   "cell_type": "markdown",
   "id": "753f1678",
   "metadata": {},
   "source": [
    "### Types of functions:\n",
    "    -with returntype and with arguments\n",
    "    -with return type and without arguments\n",
    "    -without returntype and with arguments\n",
    "    -without returntype and without arguments"
   ]
  },
  {
   "cell_type": "code",
   "execution_count": 11,
   "id": "762174ac",
   "metadata": {},
   "outputs": [
    {
     "name": "stdout",
     "output_type": "stream",
     "text": [
      "12\n",
      "1234567891011"
     ]
    }
   ],
   "source": [
    "#with return type and with arguments\n",
    "#reading\n",
    "#printing\n",
    "#logic\n",
    "def printnumber(k):\n",
    "    j=[]\n",
    "    for b in range(1,k):\n",
    "        j.append(b)\n",
    "    return j\n",
    "n=int(input())\n",
    "for z in range(1,len(printnumber(n))+1):\n",
    "    print(z,end=\"\")"
   ]
  },
  {
   "cell_type": "code",
   "execution_count": 14,
   "id": "fdedbd3f",
   "metadata": {},
   "outputs": [
    {
     "name": "stdout",
     "output_type": "stream",
     "text": [
      "20\n",
      "2 4 6 8 10 12 14 16 18 20 "
     ]
    }
   ],
   "source": [
    "#with return type and without arguments\n",
    "#reading-function\n",
    "#printing-main\n",
    "#logic-functiuon\n",
    "\n",
    "def evennumbers():\n",
    "    k=int(input())\n",
    "    c=[]\n",
    "    for b in range(1,k+1):\n",
    "        if b%2==0:\n",
    "            c.append(b)\n",
    "    return c\n",
    "\n",
    "for z in evennumbers():\n",
    "    print(z,end=\" \")"
   ]
  },
  {
   "cell_type": "code",
   "execution_count": 15,
   "id": "0cc31236",
   "metadata": {},
   "outputs": [
    {
     "name": "stdout",
     "output_type": "stream",
     "text": [
      "10\n",
      "1 3 5 7 9 "
     ]
    }
   ],
   "source": [
    "#without return types and with arguments\n",
    "\n",
    "def oddnumbers(m):\n",
    "    for i in range(1,m+1):\n",
    "        if i%2!=0:\n",
    "            print(i,end=\" \")\n",
    "    return\n",
    "b=int(input())\n",
    "oddnumbers(b)\n",
    "    "
   ]
  },
  {
   "cell_type": "code",
   "execution_count": 24,
   "id": "4e582be9",
   "metadata": {},
   "outputs": [
    {
     "name": "stdout",
     "output_type": "stream",
     "text": [
      "1\n",
      "100\n",
      "20\n",
      "1 21 41 61 81 "
     ]
    }
   ],
   "source": [
    "#without return type and without arguments\n",
    "#reading-function\n",
    "#printing-function\n",
    "#logic-function\n",
    "\n",
    "def skippingvalue():\n",
    "    n=int(input())\n",
    "    m=int(input())\n",
    "    s=int(input())\n",
    "    for j in range(n,m,s):\n",
    "         print(j,end=\" \")\n",
    "skippingvalue()"
   ]
  },
  {
   "cell_type": "markdown",
   "id": "03860c35",
   "metadata": {},
   "source": [
    "## argument types:\n",
    "     -required arguments\n",
    "     -default arguments\n",
    "     -keyword arguments\n",
    "     -variablelength arguments\n",
    "     "
   ]
  },
  {
   "cell_type": "code",
   "execution_count": 25,
   "id": "41186f95",
   "metadata": {},
   "outputs": [
    {
     "name": "stdout",
     "output_type": "stream",
     "text": [
      "Enter your name: tejs\n",
      "Enter an age: 20\n",
      "Your name is: 20\n",
      "Your age is: tejs\n"
     ]
    }
   ],
   "source": [
    "#required arguments\n",
    "\n",
    "def student(a,n):\n",
    "    print(\"Your name is: {}\\nYour age is: {}\".format(age,name))\n",
    "    \n",
    "    return\n",
    "name=input(\"Enter your name: \")\n",
    "age=int(input(\"Enter an age: \"))\n",
    "student(name,age)"
   ]
  },
  {
   "cell_type": "code",
   "execution_count": 29,
   "id": "d5562d49",
   "metadata": {},
   "outputs": [
    {
     "name": "stdout",
     "output_type": "stream",
     "text": [
      "Enter Employee name: teja\n",
      "Enter Employee age: 24\n",
      "Employee name is: teja\n",
      "Employee age is: 24\n",
      "Employee salary is: 40000\n"
     ]
    }
   ],
   "source": [
    "# default arguments\n",
    "\n",
    "def employee(k,p,s=40000):\n",
    "    print(\"Employee name is: {}\\nEmployee age is: {}\\nEmployee salary is: {}\".format(k,p,s))\n",
    "    return\n",
    "\n",
    "n=input(\"Enter Employee name: \")\n",
    "m=int(input(\"Enter Employee age: \"))\n",
    "employee(n,m)\n",
    "    "
   ]
  },
  {
   "cell_type": "code",
   "execution_count": 36,
   "id": "055ba51b",
   "metadata": {},
   "outputs": [
    {
     "name": "stdout",
     "output_type": "stream",
     "text": [
      "4\n",
      "34 45 67\n",
      "4 <class 'int'>\n",
      "['34', '45', '67'] <class 'list'>\n"
     ]
    }
   ],
   "source": [
    "# variable argument\n",
    "\n",
    "def number(n,p):\n",
    "    print(n,type(n))\n",
    "    print(p,type(p))\n",
    "    return\n",
    "b=int(input())\n",
    "k=input().split()\n",
    "number(b,k)"
   ]
  },
  {
   "cell_type": "code",
   "execution_count": null,
   "id": "a7adc77d",
   "metadata": {},
   "outputs": [],
   "source": []
  }
 ],
 "metadata": {
  "kernelspec": {
   "display_name": "Python 3",
   "language": "python",
   "name": "python3"
  },
  "language_info": {
   "codemirror_mode": {
    "name": "ipython",
    "version": 3
   },
   "file_extension": ".py",
   "mimetype": "text/x-python",
   "name": "python",
   "nbconvert_exporter": "python",
   "pygments_lexer": "ipython3",
   "version": "3.7.5"
  }
 },
 "nbformat": 4,
 "nbformat_minor": 5
}
