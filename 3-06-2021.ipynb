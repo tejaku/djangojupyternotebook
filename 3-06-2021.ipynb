{
 "cells": [
  {
   "cell_type": "markdown",
   "id": "efe05d6a",
   "metadata": {},
   "source": [
    "# set"
   ]
  },
  {
   "cell_type": "code",
   "execution_count": 1,
   "id": "489583d6",
   "metadata": {},
   "outputs": [
    {
     "name": "stdout",
     "output_type": "stream",
     "text": [
      "{'a', 45, 120, 155, 'ramu'}\n"
     ]
    }
   ],
   "source": [
    "g={'a',45,120,155,\"ramu\"}\n",
    "print(g)"
   ]
  },
  {
   "cell_type": "code",
   "execution_count": 2,
   "id": "e0f239df",
   "metadata": {},
   "outputs": [
    {
     "data": {
      "text/plain": [
       "{120, 155, 45, 'a', 'ramu'}"
      ]
     },
     "execution_count": 2,
     "metadata": {},
     "output_type": "execute_result"
    }
   ],
   "source": [
    "g"
   ]
  },
  {
   "cell_type": "code",
   "execution_count": 4,
   "id": "5a85ef0c",
   "metadata": {},
   "outputs": [
    {
     "name": "stdout",
     "output_type": "stream",
     "text": [
      "{} <class 'dict'>\n",
      "{2} <class 'set'>\n"
     ]
    }
   ],
   "source": [
    "h={}\n",
    "m={2}\n",
    "print(h,type(h))\n",
    "print(m,type(m))"
   ]
  },
  {
   "cell_type": "code",
   "execution_count": 6,
   "id": "4a6cd0d2",
   "metadata": {},
   "outputs": [
    {
     "name": "stdout",
     "output_type": "stream",
     "text": [
      "['__and__', '__class__', '__contains__', '__delattr__', '__dir__', '__doc__', '__eq__', '__format__', '__ge__', '__getattribute__', '__gt__', '__hash__', '__iand__', '__init__', '__init_subclass__', '__ior__', '__isub__', '__iter__', '__ixor__', '__le__', '__len__', '__lt__', '__ne__', '__new__', '__or__', '__rand__', '__reduce__', '__reduce_ex__', '__repr__', '__ror__', '__rsub__', '__rxor__', '__setattr__', '__sizeof__', '__str__', '__sub__', '__subclasshook__', '__xor__', 'add', 'clear', 'copy', 'difference', 'difference_update', 'discard', 'intersection', 'intersection_update', 'isdisjoint', 'issubset', 'issuperset', 'pop', 'remove', 'symmetric_difference', 'symmetric_difference_update', 'union', 'update']\n"
     ]
    }
   ],
   "source": [
    "print(dir(set))"
   ]
  },
  {
   "cell_type": "code",
   "execution_count": 7,
   "id": "cbaa2774",
   "metadata": {},
   "outputs": [
    {
     "name": "stdout",
     "output_type": "stream",
     "text": [
      "{32, 65, 'kunchala', 'prasanna', 'tej'}\n"
     ]
    }
   ],
   "source": [
    "s1={32,65,'tej','kunchala'}\n",
    "s1.add(\"prasanna\")\n",
    "print(s1)"
   ]
  },
  {
   "cell_type": "code",
   "execution_count": 17,
   "id": "b9222ab5",
   "metadata": {},
   "outputs": [
    {
     "name": "stdout",
     "output_type": "stream",
     "text": [
      "{'kunchala', 'prasanna'}\n",
      "{'prasanna'}\n"
     ]
    }
   ],
   "source": [
    "print(s1)\n",
    "s1.pop()\n",
    "print(s1)"
   ]
  },
  {
   "cell_type": "code",
   "execution_count": 18,
   "id": "3a5fffae",
   "metadata": {},
   "outputs": [
    {
     "name": "stdout",
     "output_type": "stream",
     "text": [
      "{'prasanna'}\n"
     ]
    }
   ],
   "source": [
    "print(s1)"
   ]
  },
  {
   "cell_type": "code",
   "execution_count": 21,
   "id": "abad889d",
   "metadata": {},
   "outputs": [
    {
     "name": "stdout",
     "output_type": "stream",
     "text": [
      "{99, 8, 9, 74, 45}\n",
      "{32, 1, 2, 4, 6, 8, 90}\n",
      "{32, 1, 2, 99, 4, 6, 8, 9, 74, 45, 90}\n",
      "{99, 8, 9, 74, 45}\n",
      "{32, 1, 2, 4, 6, 8, 90}\n",
      "{8}\n"
     ]
    }
   ],
   "source": [
    "s2={45,8,9,74,99}\n",
    "s3={32,1,2,4,6,8,90}\n",
    "print(s2)\n",
    "print(s3)\n",
    "print(s3.union(s2))\n",
    "print(s2)\n",
    "print(s3)\n",
    "print(s3.intersection(s2))\n"
   ]
  },
  {
   "cell_type": "markdown",
   "id": "0feac1fb",
   "metadata": {},
   "source": [
    "# dictionary"
   ]
  },
  {
   "cell_type": "code",
   "execution_count": 22,
   "id": "80fd2c9a",
   "metadata": {},
   "outputs": [
    {
     "name": "stdout",
     "output_type": "stream",
     "text": [
      "{'name': ('ramu', 'suresh', 'tejaswini'), 'age': 20, 'sai': [24.5, 48.56]} <class 'dict'>\n"
     ]
    }
   ],
   "source": [
    "t={'name':(\"ramu\",\"suresh\",\"tejaswini\"),'age':20,'sai':[24.500,48.560]}\n",
    "print(t,type(t))\n",
    "\n",
    "\n"
   ]
  },
  {
   "cell_type": "code",
   "execution_count": 23,
   "id": "dafda2e6",
   "metadata": {},
   "outputs": [
    {
     "name": "stdout",
     "output_type": "stream",
     "text": [
      "ramu\n"
     ]
    }
   ],
   "source": [
    "print(t['name'][0])"
   ]
  },
  {
   "cell_type": "code",
   "execution_count": 24,
   "id": "12d43e7d",
   "metadata": {},
   "outputs": [
    {
     "name": "stdout",
     "output_type": "stream",
     "text": [
      "['__class__', '__contains__', '__delattr__', '__delitem__', '__dir__', '__doc__', '__eq__', '__format__', '__ge__', '__getattribute__', '__getitem__', '__gt__', '__hash__', '__init__', '__init_subclass__', '__iter__', '__le__', '__len__', '__lt__', '__ne__', '__new__', '__reduce__', '__reduce_ex__', '__repr__', '__setattr__', '__setitem__', '__sizeof__', '__str__', '__subclasshook__', 'clear', 'copy', 'fromkeys', 'get', 'items', 'keys', 'pop', 'popitem', 'setdefault', 'update', 'values']\n"
     ]
    }
   ],
   "source": [
    "print(dir(dict))"
   ]
  },
  {
   "cell_type": "code",
   "execution_count": 25,
   "id": "6df2320f",
   "metadata": {},
   "outputs": [
    {
     "name": "stdout",
     "output_type": "stream",
     "text": [
      "dict_keys(['name', 'age', 'sai'])\n"
     ]
    }
   ],
   "source": [
    "print(t.keys())"
   ]
  },
  {
   "cell_type": "code",
   "execution_count": 27,
   "id": "705d32c0",
   "metadata": {},
   "outputs": [
    {
     "name": "stdout",
     "output_type": "stream",
     "text": [
      "dict_values([('ramu', 'suresh', 'tejaswini'), 20, [24.5, 48.56]])\n"
     ]
    }
   ],
   "source": [
    "print(t.values())"
   ]
  },
  {
   "cell_type": "code",
   "execution_count": 29,
   "id": "773b3f8b",
   "metadata": {},
   "outputs": [
    {
     "name": "stdout",
     "output_type": "stream",
     "text": [
      "{'name': 'tilak', 'age': [45, 59], 'sai': 0}\n"
     ]
    }
   ],
   "source": [
    "y={'name':\"tilak\",\"age\":[45,59],\"sai\":0}\n",
    "print(y)"
   ]
  },
  {
   "cell_type": "code",
   "execution_count": 30,
   "id": "eccfe982",
   "metadata": {},
   "outputs": [
    {
     "name": "stdout",
     "output_type": "stream",
     "text": [
      "dict_items([('name', ('ramu', 'suresh', 'tejaswini')), ('age', 20), ('sai', [24.5, 48.56])])\n"
     ]
    }
   ],
   "source": [
    "print(t.items())"
   ]
  },
  {
   "cell_type": "code",
   "execution_count": 31,
   "id": "145b80d0",
   "metadata": {},
   "outputs": [
    {
     "name": "stdout",
     "output_type": "stream",
     "text": [
      "20\n"
     ]
    }
   ],
   "source": [
    "print(t.get('age'))"
   ]
  },
  {
   "cell_type": "code",
   "execution_count": 32,
   "id": "7961bd4e",
   "metadata": {},
   "outputs": [
    {
     "name": "stdout",
     "output_type": "stream",
     "text": [
      "{'name': ('ramu', 'suresh', 'tejaswini'), 'age': 20, 'sai': [24.5, 48.56]}\n",
      "{'name': ('ramu', 'suresh', 'tejaswini'), 'age': 20, 'sai': [24.5, 48.56], 'num': 547}\n"
     ]
    }
   ],
   "source": [
    "print(t)\n",
    "t['num']=547\n",
    "print(t)"
   ]
  },
  {
   "cell_type": "code",
   "execution_count": 33,
   "id": "13837c5f",
   "metadata": {},
   "outputs": [
    {
     "name": "stdout",
     "output_type": "stream",
     "text": [
      "{'name': ('ramu', 'suresh', 'tejaswini'), 'age': 20, 'sai': [24.5, 48.56], 'num': 547}\n",
      "{'name': ('ramu', 'suresh', 'tejaswini'), 'age': 20, 'sai': [24.5, 48.56], 'num': 547, 'tr': None}\n"
     ]
    }
   ],
   "source": [
    "print(t)\n",
    "t.setdefault('tr')\n",
    "print(t)"
   ]
  },
  {
   "cell_type": "code",
   "execution_count": 39,
   "id": "b3d26428",
   "metadata": {},
   "outputs": [
    {
     "name": "stdout",
     "output_type": "stream",
     "text": [
      "{'name': ('ramu', 'suresh', 'tejaswini'), 'age': 20, 'sai': [24.5, 48.56], 'num': 547, 'tr': 46}\n"
     ]
    }
   ],
   "source": [
    "t.update({'tr':46})\n",
    "print(t)"
   ]
  },
  {
   "cell_type": "code",
   "execution_count": 41,
   "id": "f338f588",
   "metadata": {},
   "outputs": [
    {
     "name": "stdout",
     "output_type": "stream",
     "text": [
      "{'name': ('ramu', 'suresh', 'tejaswini'), 'age': 20, 'sai': [24.5, 48.56], 'num': 547}\n"
     ]
    }
   ],
   "source": [
    "t.pop('tr')\n",
    "print(t)"
   ]
  },
  {
   "cell_type": "code",
   "execution_count": 42,
   "id": "728bb9fc",
   "metadata": {},
   "outputs": [
    {
     "name": "stdout",
     "output_type": "stream",
     "text": [
      "{'name': ('ramu', 'suresh', 'tejaswini'), 'age': 20, 'sai': [24.5, 48.56]}\n"
     ]
    }
   ],
   "source": [
    "t.popitem()\n",
    "print(t)"
   ]
  },
  {
   "cell_type": "code",
   "execution_count": 43,
   "id": "1fda3b5f",
   "metadata": {},
   "outputs": [
    {
     "name": "stdout",
     "output_type": "stream",
     "text": [
      "['name', 'age', 'sai']\n",
      "[12, 45, 78, 98, 45]\n",
      "['name', 'age', 'sai']\n",
      "[12, 45, 78, 98, 45]\n"
     ]
    }
   ],
   "source": [
    "q=['name','age','sai']\n",
    "w=[12,45,78,98,45]\n",
    "print(q)\n",
    "print(w)\n",
    "f={'name':34,'donor':45}\n",
    "f.fromkeys(q)\n",
    "f.fromkeys(w)\n",
    "print(q)\n",
    "print(w)"
   ]
  },
  {
   "cell_type": "code",
   "execution_count": null,
   "id": "f1a2164c",
   "metadata": {},
   "outputs": [],
   "source": []
  }
 ],
 "metadata": {
  "kernelspec": {
   "display_name": "Python 3",
   "language": "python",
   "name": "python3"
  },
  "language_info": {
   "codemirror_mode": {
    "name": "ipython",
    "version": 3
   },
   "file_extension": ".py",
   "mimetype": "text/x-python",
   "name": "python",
   "nbconvert_exporter": "python",
   "pygments_lexer": "ipython3",
   "version": "3.7.5"
  }
 },
 "nbformat": 4,
 "nbformat_minor": 5
}
