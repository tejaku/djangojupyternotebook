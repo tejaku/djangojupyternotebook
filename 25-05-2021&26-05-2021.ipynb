{
 "cells": [
  {
   "cell_type": "markdown",
   "id": "24245bef",
   "metadata": {},
   "source": [
    "# python"
   ]
  },
  {
   "cell_type": "markdown",
   "id": "d56849a9",
   "metadata": {},
   "source": [
    "# python installations,execution ways,jupyter installations"
   ]
  },
  {
   "cell_type": "markdown",
   "id": "291e58e4",
   "metadata": {},
   "source": [
    "## varaibles:\n",
    " - To store a value\n",
    " - to access the value in different functions,methods\n",
    " - to change value"
   ]
  },
  {
   "cell_type": "code",
   "execution_count": 15,
   "id": "91a815cd",
   "metadata": {},
   "outputs": [],
   "source": [
    "a = 10"
   ]
  },
  {
   "cell_type": "code",
   "execution_count": 16,
   "id": "8268cb86",
   "metadata": {},
   "outputs": [
    {
     "data": {
      "text/plain": [
       "10"
      ]
     },
     "execution_count": 16,
     "metadata": {},
     "output_type": "execute_result"
    }
   ],
   "source": [
    "a"
   ]
  },
  {
   "cell_type": "code",
   "execution_count": 17,
   "id": "84205850",
   "metadata": {},
   "outputs": [
    {
     "name": "stdout",
     "output_type": "stream",
     "text": [
      "200\n",
      "rajesh\n"
     ]
    }
   ],
   "source": [
    "a=200\n",
    "b='rajesh'\n",
    "print(a)\n",
    "print(b)"
   ]
  },
  {
   "cell_type": "code",
   "execution_count": 18,
   "id": "32213f6d",
   "metadata": {},
   "outputs": [
    {
     "data": {
      "text/plain": [
       "(200, 'raju')"
      ]
     },
     "execution_count": 18,
     "metadata": {},
     "output_type": "execute_result"
    }
   ],
   "source": [
    "a=200\n",
    "b='raju'\n",
    "a,b"
   ]
  },
  {
   "cell_type": "markdown",
   "id": "47c3729f",
   "metadata": {},
   "source": [
    "## Data types:\n",
    "    - Int-only numbers\n",
    "    - float-decimal points\n",
    "    - string-either with ' or \""
   ]
  },
  {
   "cell_type": "markdown",
   "id": "62ec2485",
   "metadata": {},
   "source": [
    " c=23.000\n",
    "t='tharun'"
   ]
  },
  {
   "cell_type": "code",
   "execution_count": 10,
   "id": "d6fc8a91",
   "metadata": {},
   "outputs": [],
   "source": [
    "c,t=23.000,'tharun'"
   ]
  },
  {
   "cell_type": "code",
   "execution_count": 11,
   "id": "47393f58",
   "metadata": {},
   "outputs": [
    {
     "name": "stdout",
     "output_type": "stream",
     "text": [
      "23.0 tharun\n"
     ]
    }
   ],
   "source": [
    "print(c,t)"
   ]
  },
  {
   "cell_type": "markdown",
   "id": "4f785409",
   "metadata": {},
   "source": [
    "# type:\n",
    "    - to know the data type of the value\n",
    "    -type(variablename,datastructure)"
   ]
  },
  {
   "cell_type": "code",
   "execution_count": 12,
   "id": "8ce5dbac",
   "metadata": {},
   "outputs": [
    {
     "data": {
      "text/plain": [
       "str"
      ]
     },
     "execution_count": 12,
     "metadata": {},
     "output_type": "execute_result"
    }
   ],
   "source": [
    "type(t)"
   ]
  },
  {
   "cell_type": "code",
   "execution_count": 13,
   "id": "8b3376c0",
   "metadata": {},
   "outputs": [
    {
     "data": {
      "text/plain": [
       "str"
      ]
     },
     "execution_count": 13,
     "metadata": {},
     "output_type": "execute_result"
    }
   ],
   "source": [
    "g='12'\n",
    "type(g)"
   ]
  },
  {
   "cell_type": "code",
   "execution_count": 14,
   "id": "1247189f",
   "metadata": {},
   "outputs": [
    {
     "name": "stdout",
     "output_type": "stream",
     "text": [
      "<class 'float'>\n"
     ]
    }
   ],
   "source": [
    "print(type(c))"
   ]
  },
  {
   "cell_type": "markdown",
   "id": "12118587",
   "metadata": {},
   "source": [
    "## Input():\n",
    "    - by defalut it will be consider as a strtingvalue\n",
    "    - print(),read()"
   ]
  },
  {
   "cell_type": "code",
   "execution_count": 20,
   "id": "e9d86ff7",
   "metadata": {},
   "outputs": [
    {
     "name": "stdout",
     "output_type": "stream",
     "text": [
      "'2'\n",
      "'2' <class 'str'>\n"
     ]
    }
   ],
   "source": [
    "a=input()\n",
    "print(a,type(a))"
   ]
  },
  {
   "cell_type": "code",
   "execution_count": 21,
   "id": "9f2ee643",
   "metadata": {},
   "outputs": [
    {
     "name": "stdout",
     "output_type": "stream",
     "text": [
      "Enter the value:k\n",
      "k <class 'str'>\n"
     ]
    }
   ],
   "source": [
    "t=input(\"Enter the value:\")\n",
    "print(t,type(t))"
   ]
  },
  {
   "cell_type": "markdown",
   "id": "938fed30",
   "metadata": {},
   "source": [
    "# type casting\n",
    "    - converting one data in to another data type\n",
    "    - int(),str(),float()"
   ]
  },
  {
   "cell_type": "code",
   "execution_count": 23,
   "id": "2fbf84f0",
   "metadata": {},
   "outputs": [
    {
     "name": "stdout",
     "output_type": "stream",
     "text": [
      "Enter only integer values:3\n",
      "3 <class 'int'>\n"
     ]
    }
   ],
   "source": [
    "p=int(input(\"Enter only integer values:\"))\n",
    "print(p,type(p))"
   ]
  },
  {
   "cell_type": "code",
   "execution_count": 32,
   "id": "a6f1deed",
   "metadata": {},
   "outputs": [
    {
     "name": "stdout",
     "output_type": "stream",
     "text": [
      "Enter the int value:12\n",
      "Enter the float value:12.55\n",
      "conversion of int value into float value: 12.0\n",
      "conversion of float value into int 12\n",
      "convesion of float and int value in to string'12.55'\n"
     ]
    }
   ],
   "source": [
    "q=int(input(\"Enter the int value:\"))\n",
    "k=float(input(\"Enter the float value:\"))\n",
    "print(\"conversion of int value into float value:\",float(q))\n",
    "print(\"conversion of float value into int\",int(k))\n",
    "print(\"convesion of float and int value in to string\"+\"'\"+str(k)+\"'\")"
   ]
  },
  {
   "cell_type": "markdown",
   "id": "85187d92",
   "metadata": {},
   "source": [
    "# DAY 3"
   ]
  },
  {
   "cell_type": "markdown",
   "id": "753b69e6",
   "metadata": {},
   "source": [
    "## Output:\n",
    "- %\n",
    "- , +\n",
    "- .format"
   ]
  },
  {
   "cell_type": "code",
   "execution_count": 8,
   "id": "6033076f",
   "metadata": {},
   "outputs": [
    {
     "name": "stdout",
     "output_type": "stream",
     "text": [
      "Enter the number: 22\n",
      "Enter the name: teja\n",
      "Entered number is: 22\n",
      "Entered name is: teja\n"
     ]
    }
   ],
   "source": [
    "n=int(input(\"Enter the number: \"))\n",
    "m=input(\"Enter the name: \")\n",
    "print(\"Entered number is: %d\"%n)\n",
    "print(\"Entered name is: %s\"%m)"
   ]
  },
  {
   "cell_type": "code",
   "execution_count": 9,
   "id": "bb0e2f32",
   "metadata": {},
   "outputs": [
    {
     "name": "stdout",
     "output_type": "stream",
     "text": [
      "Entered number is : 22 and Entered Name is: teja\n"
     ]
    }
   ],
   "source": [
    "print(\"Entered number is : %d and Entered Name is: %s\"%(n,m))"
   ]
  },
  {
   "cell_type": "code",
   "execution_count": 10,
   "id": "9fe52dab",
   "metadata": {},
   "outputs": [
    {
     "name": "stdout",
     "output_type": "stream",
     "text": [
      "Entered number is: 22 and Entered name is: teja\n",
      "Entered number is: 22 and Entered name is: teja\n",
      "Entered number is: teja and Entered number is: 22\n"
     ]
    }
   ],
   "source": [
    "print(\"Entered number is: {} and Entered name is: {}\".format(n,m))\n",
    "print(\"Entered number is: {0} and Entered name is: {1}\".format(n,m))\n",
    "print(\"Entered number is: {1} and Entered number is: {0}\".format(n,m))"
   ]
  },
  {
   "cell_type": "markdown",
   "id": "5868e045",
   "metadata": {},
   "source": [
    "# Operators:\n",
    "    - Arthimetic operators -> +,-,*,/,%,floor(// -> Exact integer),exponential(** => pow())\n",
    "    - logical -> AND,OR,NOT\n",
    "    - bitwise -> &&,||,>>,<<\n",
    "    - relational -> ==,!=,<=,>=,<,>\n",
    "    - assignment -> +=,_=,*=,/=,%=\n",
    "    - membership -> in,not in\n",
    "    - Identity -> is,is not"
   ]
  },
  {
   "cell_type": "code",
   "execution_count": 12,
   "id": "6db80c94",
   "metadata": {},
   "outputs": [
    {
     "name": "stdout",
     "output_type": "stream",
     "text": [
      "3\n"
     ]
    }
   ],
   "source": [
    "a=15\n",
    "print(a>>2)"
   ]
  },
  {
   "cell_type": "markdown",
   "id": "90e3b60d",
   "metadata": {},
   "source": [
    "# Conditional statements:\n",
    "    - To check whether a given condition is either true or false\n",
    "    - if,nested if,if-else,elif ladder"
   ]
  },
  {
   "cell_type": "markdown",
   "id": "f4cb4d4b",
   "metadata": {},
   "source": [
    "## If -> Single case [T or F]\n",
    "    - syntax:\n",
    "        if(condition):\n",
    "        //stmt"
   ]
  },
  {
   "cell_type": "code",
   "execution_count": 19,
   "id": "a001765d",
   "metadata": {},
   "outputs": [
    {
     "name": "stdout",
     "output_type": "stream",
     "text": [
      "12\n",
      "it is not 45: 12\n"
     ]
    }
   ],
   "source": [
    "n=int(input())\n",
    "if n == 45:\n",
    "    print(\"Entered value is: {}\".format(n))\n",
    "print(\"it is not 45:\",n)\n",
    "\n"
   ]
  },
  {
   "cell_type": "markdown",
   "id": "9caf5848",
   "metadata": {},
   "source": [
    "## if-else -> Two cases[T or F]\n",
    "    - syntax:\n",
    "        if(condition):\n",
    "            // True statement\n",
    "        else:\n",
    "            // False"
   ]
  },
  {
   "cell_type": "code",
   "execution_count": 21,
   "id": "25fdcd48",
   "metadata": {},
   "outputs": [
    {
     "name": "stdout",
     "output_type": "stream",
     "text": [
      "21\n",
      "21\n",
      "Entered value 21 and 21 are equal\n"
     ]
    }
   ],
   "source": [
    "k=int(input())\n",
    "m=int(input())\n",
    "if k == m:\n",
    "    print(\"Entered value {} and {} are equal\".format(k,m))\n",
    "else:\n",
    "    print(\"Entered value {} is not equal to {}\".format(k,m))"
   ]
  },
  {
   "cell_type": "markdown",
   "id": "bcf5f64a",
   "metadata": {},
   "source": [
    "## Nested if [if within a if] -> one or more cases\n",
    "    - syntax:\n",
    "        if(condition1):\n",
    "            if(condition2):\n",
    "                //statement-1\n",
    "        if(condition1):\n",
    "            if(condition2):\n",
    "                //statement-2\n",
    "            else:\n",
    "                //statement-3\n",
    "        else:\n",
    "           //statement-4"
   ]
  },
  {
   "cell_type": "code",
   "execution_count": 23,
   "id": "1b1e97d7",
   "metadata": {},
   "outputs": [
    {
     "name": "stdout",
     "output_type": "stream",
     "text": [
      "100\n",
      "Entered value 100 is equal to 100\n"
     ]
    }
   ],
   "source": [
    "n=int(input())\n",
    "if (n<200):\n",
    "    if(n==100):\n",
    "        print(\"Entered value {} is equal to 100\".format(n))\n",
    "    else:\n",
    "        print(\"Entered value {} is not equal to 100 but it is lower than 200\".format(n))\n",
    "else:\n",
    "    print(\"Entered value {} is greater than 200\".format(n))"
   ]
  },
  {
   "cell_type": "markdown",
   "id": "d91b9fec",
   "metadata": {},
   "source": [
    "# Elif -> two or more cases\n",
    "    - syntax;\n",
    "        if(condition1):\n",
    "            //stmt_1\n",
    "        elif(condition2):\n",
    "            //stmt_2\n",
    "        elif(conditionn):\n",
    "            //stmt_3\n",
    "            | | | | |\n",
    "        else:\n",
    "            //stmt-(n+1)\n",
    "         \n",
    "         "
   ]
  },
  {
   "cell_type": "code",
   "execution_count": 33,
   "id": "a02d4b56",
   "metadata": {},
   "outputs": [
    {
     "name": "stdout",
     "output_type": "stream",
     "text": [
      "12\n",
      "entered value 12 is divisible by 2 and 4\n"
     ]
    }
   ],
   "source": [
    "h=int(input())\n",
    "if h%2==0 and h%4 == 0:\n",
    "    print(\"entered value %d is divisible by 2 and 4\"%h)\n",
    "elif h%4 == 0:\n",
    "    print(\"Entered value %d is divisible by 4\"%h)\n",
    "elif h%2==0:\n",
    "    print(\"Entered value %d is divisible by 2\"%h)\n",
    "else:\n",
    "    print(\"entered value %d is not divisble by 2\"%h)"
   ]
  },
  {
   "cell_type": "markdown",
   "id": "be1bd36f",
   "metadata": {},
   "source": [
    "## control statements,iterations,Loops,Repition\n",
    "    - To control the flow of Execution\n",
    "    - for,while"
   ]
  },
  {
   "cell_type": "markdown",
   "id": "82af4294",
   "metadata": {},
   "source": [
    "## For -> For particular Range => [know Ranges]\n",
    "    - Syntax:\n",
    "        for iteration_variable in iterator:\n",
    "            //stmt\n",
    "         for iteration_variable in range():\n",
    "             //stmt"
   ]
  },
  {
   "cell_type": "markdown",
   "id": "642d981d",
   "metadata": {},
   "source": [
    "### Range\n",
    "    \n",
    "    range(n):\n",
    "        -> By default it starts from 0 to n-1\n",
    "    range(n,m):\n",
    "        -> start range from exactly n and stops at m-1\n",
    "        => range(4,8)=4,5,6,7\n",
    "    range(n,m,s)\n",
    "        -> start range from exactly at n and stops at m-1 and stepping to s\n",
    "        => range(4,10,2)=4,6,8    "
   ]
  },
  {
   "cell_type": "code",
   "execution_count": 36,
   "id": "a6361bf0",
   "metadata": {},
   "outputs": [
    {
     "name": "stdout",
     "output_type": "stream",
     "text": [
      "5\n",
      "01234"
     ]
    }
   ],
   "source": [
    "n=int(input())\n",
    "for b in range(n):\n",
    "    print(b,end=\"\")"
   ]
  },
  {
   "cell_type": "code",
   "execution_count": 38,
   "id": "8d800238",
   "metadata": {},
   "outputs": [
    {
     "name": "stdout",
     "output_type": "stream",
     "text": [
      "10\n",
      "120\n",
      "101112131415161718192021222324252627282930313233343536373839404142434445464748495051525354555657585960616263646566676869707172737475767778798081828384858687888990919293949596979899100101102103104105106107108109110111112113114115116117118119"
     ]
    }
   ],
   "source": [
    "n=int(input())\n",
    "m=int(input())\n",
    "for b in range(n,m):\n",
    "    print(b,end=\"\")"
   ]
  },
  {
   "cell_type": "code",
   "execution_count": 45,
   "id": "deb2b89c",
   "metadata": {},
   "outputs": [
    {
     "name": "stdout",
     "output_type": "stream",
     "text": [
      "starting from:10\n",
      "ending with:50\n",
      "Stepping value:5\n",
      "10,15,20,25,30,35,40,45,"
     ]
    }
   ],
   "source": [
    "n=int(input(\"starting from:\"))\n",
    "m=int(input(\"ending with:\"))\n",
    "s=int(input(\"Stepping value:\"))\n",
    "for b in range(n,m,s):\n",
    "    print(b,end=\",\")"
   ]
  },
  {
   "cell_type": "code",
   "execution_count": 46,
   "id": "7307a984",
   "metadata": {},
   "outputs": [
    {
     "name": "stdout",
     "output_type": "stream",
     "text": [
      "starting from:21\n",
      "ending with:32\n",
      "stepping value:2\n",
      "32,30,28,26,24,22,"
     ]
    }
   ],
   "source": [
    "n=int(input(\"starting from:\"))\n",
    "m=int(input(\"ending with:\"))\n",
    "s=int(input(\"stepping value:\"))\n",
    "for b in range(m,n,-s):\n",
    "    print(b,end=\",\")"
   ]
  },
  {
   "cell_type": "code",
   "execution_count": null,
   "id": "eaad05fa",
   "metadata": {},
   "outputs": [],
   "source": []
  }
 ],
 "metadata": {
  "kernelspec": {
   "display_name": "Python 3",
   "language": "python",
   "name": "python3"
  },
  "language_info": {
   "codemirror_mode": {
    "name": "ipython",
    "version": 3
   },
   "file_extension": ".py",
   "mimetype": "text/x-python",
   "name": "python",
   "nbconvert_exporter": "python",
   "pygments_lexer": "ipython3",
   "version": "3.7.5"
  }
 },
 "nbformat": 4,
 "nbformat_minor": 5
}
