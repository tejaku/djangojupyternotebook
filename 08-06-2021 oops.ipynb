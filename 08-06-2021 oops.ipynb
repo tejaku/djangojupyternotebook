{
 "cells": [
  {
   "cell_type": "markdown",
   "id": "ff6669ba",
   "metadata": {},
   "source": [
    "## oops\n",
    "    - class\n",
    "    - method\n",
    "    - object\n",
    "    - constructor\n",
    "    - package and modules by using using class\n",
    "    - inheritance"
   ]
  },
  {
   "cell_type": "markdown",
   "id": "59ab6719",
   "metadata": {},
   "source": [
    "## Class:\n",
    "    - class is a collection of variables and methods\n",
    "### rules to define classes\n",
    "    - should not start with number\n",
    "    - not to use keywords\n",
    "    "
   ]
  },
  {
   "cell_type": "code",
   "execution_count": 88,
   "id": "91ea69a0",
   "metadata": {},
   "outputs": [],
   "source": [
    "class Hi:\n",
    "    name, rollno = \"teja\", 547\n",
    "    def msg():\n",
    "        print(\"hi all i am from msg()\")"
   ]
  },
  {
   "cell_type": "code",
   "execution_count": 89,
   "id": "4ae55f41",
   "metadata": {},
   "outputs": [
    {
     "name": "stdout",
     "output_type": "stream",
     "text": [
      "teja\n",
      "547\n"
     ]
    }
   ],
   "source": [
    "print(Hi.name)\n",
    "print(Hi.rollno)"
   ]
  },
  {
   "cell_type": "code",
   "execution_count": 90,
   "id": "72b7983c",
   "metadata": {},
   "outputs": [
    {
     "name": "stdout",
     "output_type": "stream",
     "text": [
      "hi all i am from msg()\n"
     ]
    }
   ],
   "source": [
    "Hi.msg()"
   ]
  },
  {
   "cell_type": "code",
   "execution_count": 91,
   "id": "710f2789",
   "metadata": {},
   "outputs": [],
   "source": [
    "obj=Hi"
   ]
  },
  {
   "cell_type": "code",
   "execution_count": 92,
   "id": "b9d8a290",
   "metadata": {},
   "outputs": [
    {
     "data": {
      "text/plain": [
       "'teja'"
      ]
     },
     "execution_count": 92,
     "metadata": {},
     "output_type": "execute_result"
    }
   ],
   "source": [
    "obj.name"
   ]
  },
  {
   "cell_type": "code",
   "execution_count": 93,
   "id": "244efa2d",
   "metadata": {},
   "outputs": [
    {
     "name": "stdout",
     "output_type": "stream",
     "text": [
      "hi all i am from msg()\n"
     ]
    }
   ],
   "source": [
    "obj.msg()"
   ]
  },
  {
   "cell_type": "code",
   "execution_count": 94,
   "id": "06a74e84",
   "metadata": {},
   "outputs": [],
   "source": [
    "class calci:\n",
    "    def add(*s):\n",
    "        c=0\n",
    "        for i in s:\n",
    "            c+=i\n",
    "        return c\n",
    "    def sub(a,b):\n",
    "        return b-a\n",
    "    def mul(*d):\n",
    "        a=1\n",
    "        for i in d:\n",
    "            a*=i\n",
    "        return a\n",
    "    def div(a,c):\n",
    "        return a/c\n",
    "    def fdiv(a,d):\n",
    "        return a//d"
   ]
  },
  {
   "cell_type": "code",
   "execution_count": 95,
   "id": "2cc32f38",
   "metadata": {},
   "outputs": [],
   "source": [
    "\n",
    "cal=calci"
   ]
  },
  {
   "cell_type": "code",
   "execution_count": 96,
   "id": "ccde3fbb",
   "metadata": {},
   "outputs": [
    {
     "data": {
      "text/plain": [
       "46"
      ]
     },
     "execution_count": 96,
     "metadata": {},
     "output_type": "execute_result"
    }
   ],
   "source": [
    "cal.add(22,24)"
   ]
  },
  {
   "cell_type": "code",
   "execution_count": 97,
   "id": "e917ec67",
   "metadata": {},
   "outputs": [
    {
     "data": {
      "text/plain": [
       "1"
      ]
     },
     "execution_count": 97,
     "metadata": {},
     "output_type": "execute_result"
    }
   ],
   "source": [
    "cal.sub(36,37)"
   ]
  },
  {
   "cell_type": "code",
   "execution_count": 98,
   "id": "1e259eca",
   "metadata": {},
   "outputs": [
    {
     "data": {
      "text/plain": [
       "18"
      ]
     },
     "execution_count": 98,
     "metadata": {},
     "output_type": "execute_result"
    }
   ],
   "source": [
    "cal.mul(3,6)"
   ]
  },
  {
   "cell_type": "code",
   "execution_count": 99,
   "id": "faf4e91f",
   "metadata": {},
   "outputs": [
    {
     "data": {
      "text/plain": [
       "4.0"
      ]
     },
     "execution_count": 99,
     "metadata": {},
     "output_type": "execute_result"
    }
   ],
   "source": [
    "cal.div(8,2)"
   ]
  },
  {
   "cell_type": "code",
   "execution_count": 100,
   "id": "caed7c65",
   "metadata": {},
   "outputs": [
    {
     "data": {
      "text/plain": [
       "3"
      ]
     },
     "execution_count": 100,
     "metadata": {},
     "output_type": "execute_result"
    }
   ],
   "source": [
    "cal.fdiv(18,5)"
   ]
  },
  {
   "cell_type": "code",
   "execution_count": 101,
   "id": "97765bb6",
   "metadata": {},
   "outputs": [],
   "source": [
    "cal1=calci()"
   ]
  },
  {
   "cell_type": "code",
   "execution_count": 102,
   "id": "68622e52",
   "metadata": {},
   "outputs": [
    {
     "ename": "TypeError",
     "evalue": "unsupported operand type(s) for +=: 'int' and 'calci'",
     "output_type": "error",
     "traceback": [
      "\u001b[1;31m---------------------------------------------------------------------------\u001b[0m",
      "\u001b[1;31mTypeError\u001b[0m                                 Traceback (most recent call last)",
      "\u001b[1;32m<ipython-input-102-343f44c076fd>\u001b[0m in \u001b[0;36m<module>\u001b[1;34m\u001b[0m\n\u001b[1;32m----> 1\u001b[1;33m \u001b[0mcal1\u001b[0m\u001b[1;33m.\u001b[0m\u001b[0madd\u001b[0m\u001b[1;33m(\u001b[0m\u001b[1;36m21\u001b[0m\u001b[1;33m,\u001b[0m\u001b[1;36m22\u001b[0m\u001b[1;33m)\u001b[0m\u001b[1;33m\u001b[0m\u001b[1;33m\u001b[0m\u001b[0m\n\u001b[0m",
      "\u001b[1;32m<ipython-input-94-34d6d662ca9f>\u001b[0m in \u001b[0;36madd\u001b[1;34m(*s)\u001b[0m\n\u001b[0;32m      3\u001b[0m         \u001b[0mc\u001b[0m\u001b[1;33m=\u001b[0m\u001b[1;36m0\u001b[0m\u001b[1;33m\u001b[0m\u001b[1;33m\u001b[0m\u001b[0m\n\u001b[0;32m      4\u001b[0m         \u001b[1;32mfor\u001b[0m \u001b[0mi\u001b[0m \u001b[1;32min\u001b[0m \u001b[0ms\u001b[0m\u001b[1;33m:\u001b[0m\u001b[1;33m\u001b[0m\u001b[1;33m\u001b[0m\u001b[0m\n\u001b[1;32m----> 5\u001b[1;33m             \u001b[0mc\u001b[0m\u001b[1;33m+=\u001b[0m\u001b[0mi\u001b[0m\u001b[1;33m\u001b[0m\u001b[1;33m\u001b[0m\u001b[0m\n\u001b[0m\u001b[0;32m      6\u001b[0m         \u001b[1;32mreturn\u001b[0m \u001b[0mc\u001b[0m\u001b[1;33m\u001b[0m\u001b[1;33m\u001b[0m\u001b[0m\n\u001b[0;32m      7\u001b[0m     \u001b[1;32mdef\u001b[0m \u001b[0msub\u001b[0m\u001b[1;33m(\u001b[0m\u001b[0ma\u001b[0m\u001b[1;33m,\u001b[0m\u001b[0mb\u001b[0m\u001b[1;33m)\u001b[0m\u001b[1;33m:\u001b[0m\u001b[1;33m\u001b[0m\u001b[1;33m\u001b[0m\u001b[0m\n",
      "\u001b[1;31mTypeError\u001b[0m: unsupported operand type(s) for +=: 'int' and 'calci'"
     ]
    }
   ],
   "source": [
    "cal1.add(21,22)"
   ]
  },
  {
   "cell_type": "markdown",
   "id": "c34f6924",
   "metadata": {},
   "source": [
    "## constructor:\n",
    "    - It is a special method i.e.,__init__()\n",
    "    - It will execute while creating object\n",
    "    - we have 2 different types of constructors\n",
    "        - default\n",
    "        - parameterised"
   ]
  },
  {
   "cell_type": "code",
   "execution_count": 103,
   "id": "02aff871",
   "metadata": {},
   "outputs": [],
   "source": [
    "class Hello:\n",
    "    def __init__(self):\n",
    "        print(\"hi I am default constructor\")"
   ]
  },
  {
   "cell_type": "code",
   "execution_count": 104,
   "id": "9f9ae48c",
   "metadata": {},
   "outputs": [
    {
     "name": "stdout",
     "output_type": "stream",
     "text": [
      "hi I am default constructor\n"
     ]
    }
   ],
   "source": [
    "obj = Hello()"
   ]
  },
  {
   "cell_type": "code",
   "execution_count": 105,
   "id": "2390e562",
   "metadata": {},
   "outputs": [],
   "source": [
    "class Hello1:\n",
    "    def __init__(fles,val1,val2):\n",
    "        fles.val1= val1\n",
    "        fles.val2= val2 \n",
    "    def show(fles):\n",
    "        print(fles.val1,fles.val2,fles.val3,fles.val4)\n",
    "    def add(fles):\n",
    "        return fles.val1+fles.val2\n",
    "    def profile(fles,val3,val4):\n",
    "        fles.val3 = val3\n",
    "        fles.val4 = val4"
   ]
  },
  {
   "cell_type": "code",
   "execution_count": 106,
   "id": "815bf325",
   "metadata": {},
   "outputs": [],
   "source": [
    "obj=Hello1(45,34)"
   ]
  },
  {
   "cell_type": "code",
   "execution_count": 107,
   "id": "8d69568a",
   "metadata": {},
   "outputs": [],
   "source": [
    "obj.profile(90,40)"
   ]
  },
  {
   "cell_type": "code",
   "execution_count": 108,
   "id": "005166c9",
   "metadata": {},
   "outputs": [
    {
     "name": "stdout",
     "output_type": "stream",
     "text": [
      "45 34 90 40\n"
     ]
    }
   ],
   "source": [
    "obj.show()"
   ]
  },
  {
   "cell_type": "code",
   "execution_count": 119,
   "id": "c7cebaff",
   "metadata": {},
   "outputs": [],
   "source": [
    "from package import mylogics"
   ]
  },
  {
   "cell_type": "code",
   "execution_count": 120,
   "id": "60b02a88",
   "metadata": {},
   "outputs": [
    {
     "name": "stdout",
     "output_type": "stream",
     "text": [
      "['MyMath', '__builtins__', '__cached__', '__doc__', '__file__', '__loader__', '__name__', '__package__', '__spec__', 'calsi']\n"
     ]
    }
   ],
   "source": [
    "print(dir(mylogics))"
   ]
  },
  {
   "cell_type": "code",
   "execution_count": 121,
   "id": "a20e150e",
   "metadata": {},
   "outputs": [
    {
     "data": {
      "text/plain": [
       "True"
      ]
     },
     "execution_count": 121,
     "metadata": {},
     "output_type": "execute_result"
    }
   ],
   "source": [
    "mylogics.MyMath.isEven(4)"
   ]
  },
  {
   "cell_type": "code",
   "execution_count": 1,
   "id": "c01d6567",
   "metadata": {},
   "outputs": [],
   "source": [
    "from package.mylogics import MyMath"
   ]
  },
  {
   "cell_type": "code",
   "execution_count": 2,
   "id": "876f5e52",
   "metadata": {},
   "outputs": [
    {
     "name": "stdout",
     "output_type": "stream",
     "text": [
      "['__class__', '__delattr__', '__dict__', '__dir__', '__doc__', '__eq__', '__format__', '__ge__', '__getattribute__', '__gt__', '__hash__', '__init__', '__init_subclass__', '__le__', '__lt__', '__module__', '__ne__', '__new__', '__reduce__', '__reduce_ex__', '__repr__', '__setattr__', '__sizeof__', '__str__', '__subclasshook__', '__weakref__', 'isEven', 'isodd', 'isprime']\n"
     ]
    }
   ],
   "source": [
    "print(dir(MyMath))"
   ]
  },
  {
   "cell_type": "code",
   "execution_count": 3,
   "id": "282c59d9",
   "metadata": {},
   "outputs": [],
   "source": [
    "obj=MyMath"
   ]
  },
  {
   "cell_type": "code",
   "execution_count": 4,
   "id": "1fde0432",
   "metadata": {},
   "outputs": [
    {
     "data": {
      "text/plain": [
       "True"
      ]
     },
     "execution_count": 4,
     "metadata": {},
     "output_type": "execute_result"
    }
   ],
   "source": [
    "obj.isprime(47)"
   ]
  },
  {
   "cell_type": "markdown",
   "id": "de963baf",
   "metadata": {},
   "source": [
    "## Inheritance:\n",
    "    - Inheriting properties from parent to child\n",
    "    - aquring properties from one class to another\n",
    "    - types of inheritance\n",
    "        - single\n",
    "        - multiple\n",
    "        - multilevel\n",
    "        - hierarichal\n",
    "        - hybrid"
   ]
  },
  {
   "cell_type": "code",
   "execution_count": 5,
   "id": "40d4b731",
   "metadata": {},
   "outputs": [],
   "source": [
    "class Parent:\n",
    "    name=\"Parent\"\n",
    "    value=500\n",
    "    def display():\n",
    "        print(\"I am from parent class\")"
   ]
  },
  {
   "cell_type": "code",
   "execution_count": 6,
   "id": "25ad79f6",
   "metadata": {},
   "outputs": [],
   "source": [
    "class child(Parent):\n",
    "    cname=\"child\"\n",
    "    age=34\n",
    "    def show():\n",
    "        print(\"I am from child class\")"
   ]
  },
  {
   "cell_type": "code",
   "execution_count": 7,
   "id": "7db60de5",
   "metadata": {},
   "outputs": [],
   "source": [
    "obj=child"
   ]
  },
  {
   "cell_type": "code",
   "execution_count": 8,
   "id": "4172117d",
   "metadata": {},
   "outputs": [
    {
     "data": {
      "text/plain": [
       "'Parent'"
      ]
     },
     "execution_count": 8,
     "metadata": {},
     "output_type": "execute_result"
    }
   ],
   "source": [
    "obj.name"
   ]
  },
  {
   "cell_type": "code",
   "execution_count": 10,
   "id": "7042acf7",
   "metadata": {},
   "outputs": [
    {
     "name": "stdout",
     "output_type": "stream",
     "text": [
      "I am from parent class\n"
     ]
    }
   ],
   "source": [
    "obj.display()"
   ]
  },
  {
   "cell_type": "code",
   "execution_count": null,
   "id": "41df01bb",
   "metadata": {},
   "outputs": [],
   "source": []
  }
 ],
 "metadata": {
  "kernelspec": {
   "display_name": "Python 3",
   "language": "python",
   "name": "python3"
  },
  "language_info": {
   "codemirror_mode": {
    "name": "ipython",
    "version": 3
   },
   "file_extension": ".py",
   "mimetype": "text/x-python",
   "name": "python",
   "nbconvert_exporter": "python",
   "pygments_lexer": "ipython3",
   "version": "3.7.5"
  }
 },
 "nbformat": 4,
 "nbformat_minor": 5
}
