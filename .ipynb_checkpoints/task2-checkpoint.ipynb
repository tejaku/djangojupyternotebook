{
 "cells": [
  {
   "cell_type": "code",
   "execution_count": 6,
   "id": "63627a9d",
   "metadata": {},
   "outputs": [],
   "source": [
    "from apssdc.task2 import task2"
   ]
  },
  {
   "cell_type": "code",
   "execution_count": 7,
   "id": "86bcb445",
   "metadata": {},
   "outputs": [
    {
     "data": {
      "text/plain": [
       "['__builtins__',\n",
       " '__cached__',\n",
       " '__doc__',\n",
       " '__file__',\n",
       " '__loader__',\n",
       " '__name__',\n",
       " '__package__',\n",
       " '__spec__',\n",
       " 'add',\n",
       " 'division',\n",
       " 'multiply',\n",
       " 'sub']"
      ]
     },
     "execution_count": 7,
     "metadata": {},
     "output_type": "execute_result"
    }
   ],
   "source": [
    "dir(task2)"
   ]
  },
  {
   "cell_type": "code",
   "execution_count": 9,
   "id": "3a9ed5d7",
   "metadata": {},
   "outputs": [
    {
     "data": {
      "text/plain": [
       "3"
      ]
     },
     "execution_count": 9,
     "metadata": {},
     "output_type": "execute_result"
    }
   ],
   "source": [
    "task2.add(1,2)"
   ]
  },
  {
   "cell_type": "code",
   "execution_count": 17,
   "id": "99613bcb",
   "metadata": {},
   "outputs": [
    {
     "name": "stdout",
     "output_type": "stream",
     "text": [
      "Enter the value of a:25\n",
      "Enter the value of b:5\n",
      "Addition of 25 and 5 is: 30\n",
      "Subtraction of 25 and 5 is: 20\n",
      "Multiplication of 25 and 5 is: 125\n",
      "Division of 25 and 5 is: 5.0\n"
     ]
    }
   ],
   "source": [
    "a=int(input(\"Enter the value of a:\"))\n",
    "b=int(input(\"Enter the value of b:\"))\n",
    "print(\"Addition of\",a,\"and\",b,\"is:\",task2.add(a,b))\n",
    "print(\"Subtraction of\",a,\"and\",b,\"is:\",task2.sub(a,b))\n",
    "print(\"Multiplication of\",a,\"and\",b,\"is:\",task2.multiply(a,b))\n",
    "print(\"Division of\",a,\"and\",b,\"is:\",task2.division(a,b))"
   ]
  }
 ],
 "metadata": {
  "kernelspec": {
   "display_name": "Python 3",
   "language": "python",
   "name": "python3"
  },
  "language_info": {
   "codemirror_mode": {
    "name": "ipython",
    "version": 3
   },
   "file_extension": ".py",
   "mimetype": "text/x-python",
   "name": "python",
   "nbconvert_exporter": "python",
   "pygments_lexer": "ipython3",
   "version": "3.7.5"
  }
 },
 "nbformat": 4,
 "nbformat_minor": 5
}
