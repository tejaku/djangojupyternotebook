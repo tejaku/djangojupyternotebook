{
 "cells": [
  {
   "cell_type": "code",
   "execution_count": 3,
   "id": "93f9ac5b",
   "metadata": {},
   "outputs": [
    {
     "name": "stdout",
     "output_type": "stream",
     "text": [
      "abck1234%^&*$\n",
      "Given string is:  #\n",
      "Alphabets in abck1234%^&*$ : a b c k \n",
      "Numbers in abck1234%^&*$ : 1 2 3 4 \n",
      "Special characters in abck1234%^&*$ : % ^ & * $ \n"
     ]
    }
   ],
   "source": [
    "s=input()\n",
    "alp=''\n",
    "sym=''\n",
    "num=''\n",
    "print(\"Given string is: \",i)\n",
    "for i in s:\n",
    "    if(i.isalpha()):\n",
    "        alp+=i+\" \"\n",
    "    elif(i.isalnum()):\n",
    "        num+=i+\" \"\n",
    "    else:\n",
    "        sym+=i+\" \"\n",
    "print(\"Alphabets in\",s,\":\",alp)\n",
    "print(\"Numbers in\",s,\":\",num)\n",
    "print(\"Special characters in\",s,\":\",sym)"
   ]
  }
 ],
 "metadata": {
  "kernelspec": {
   "display_name": "Python 3",
   "language": "python",
   "name": "python3"
  },
  "language_info": {
   "codemirror_mode": {
    "name": "ipython",
    "version": 3
   },
   "file_extension": ".py",
   "mimetype": "text/x-python",
   "name": "python",
   "nbconvert_exporter": "python",
   "pygments_lexer": "ipython3",
   "version": "3.7.5"
  }
 },
 "nbformat": 4,
 "nbformat_minor": 5
}
