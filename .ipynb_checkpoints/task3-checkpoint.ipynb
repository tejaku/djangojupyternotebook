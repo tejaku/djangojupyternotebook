{
 "cells": [
  {
   "cell_type": "code",
   "execution_count": 11,
   "id": "bc763155",
   "metadata": {},
   "outputs": [
    {
     "name": "stdout",
     "output_type": "stream",
     "text": [
      "1234568\n",
      "Given number is: 1234568\n",
      "Even numbers are: 2 4 6 8\n",
      "odd numbers are: 1 3 5\n",
      "lefteven numbers are: 2 4 6 8\n",
      "rightEven numbers are:\n"
     ]
    }
   ],
   "source": [
    "def fun(k):\n",
    "    print(\"Given number is:\",k)\n",
    "    l=len(str(k))\n",
    "    count=0\n",
    "    even=[]\n",
    "    odd=[]\n",
    "    lefteven=[]\n",
    "    righteven=[]\n",
    "    while(k>0):\n",
    "        a=k%10\n",
    "        k=k//10\n",
    "        count+=1\n",
    "        if(a%2==0):\n",
    "            even.append(a)\n",
    "            if(count<=1//2):\n",
    "                righteven.append(a)\n",
    "            else:\n",
    "                lefteven.append(a)\n",
    "        else:\n",
    "            odd.append(a)\n",
    "    print(\"Even numbers are:\",*reversed(even))\n",
    "    print(\"odd numbers are:\",*reversed(odd))    \n",
    "    print(\"lefteven numbers are:\",*reversed(lefteven))    \n",
    "    print(\"rightEven numbers are:\",*reversed(righteven))\n",
    "k=int(input())\n",
    "fun(k)"
   ]
  },
  {
   "cell_type": "code",
   "execution_count": null,
   "id": "87abe584",
   "metadata": {},
   "outputs": [],
   "source": []
  }
 ],
 "metadata": {
  "kernelspec": {
   "display_name": "Python 3",
   "language": "python",
   "name": "python3"
  },
  "language_info": {
   "codemirror_mode": {
    "name": "ipython",
    "version": 3
   },
   "file_extension": ".py",
   "mimetype": "text/x-python",
   "name": "python",
   "nbconvert_exporter": "python",
   "pygments_lexer": "ipython3",
   "version": "3.7.5"
  }
 },
 "nbformat": 4,
 "nbformat_minor": 5
}
