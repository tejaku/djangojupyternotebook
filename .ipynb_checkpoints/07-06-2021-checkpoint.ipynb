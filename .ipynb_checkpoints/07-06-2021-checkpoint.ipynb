{
 "cells": [
  {
   "cell_type": "markdown",
   "id": "3617bb02",
   "metadata": {},
   "source": [
    "# Modules and packages:\n"
   ]
  },
  {
   "cell_type": "markdown",
   "id": "ccc223d3",
   "metadata": {},
   "source": [
    "## Packages:\n",
    "    -folder - No of files or number of folder\n",
    "    -package=> Folder\n",
    "            =>number of folders or files\n",
    "            =>collection of modules\n",
    "    -module =>files\n",
    "            =>collection of class,methods,functions,variables\n",
    "            "
   ]
  },
  {
   "cell_type": "code",
   "execution_count": 1,
   "id": "50a8d076",
   "metadata": {},
   "outputs": [],
   "source": [
    "import math"
   ]
  },
  {
   "cell_type": "code",
   "execution_count": 2,
   "id": "7515b63c",
   "metadata": {},
   "outputs": [
    {
     "name": "stdout",
     "output_type": "stream",
     "text": [
      "['__doc__', '__loader__', '__name__', '__package__', '__spec__', 'acos', 'acosh', 'asin', 'asinh', 'atan', 'atan2', 'atanh', 'ceil', 'copysign', 'cos', 'cosh', 'degrees', 'e', 'erf', 'erfc', 'exp', 'expm1', 'fabs', 'factorial', 'floor', 'fmod', 'frexp', 'fsum', 'gamma', 'gcd', 'hypot', 'inf', 'isclose', 'isfinite', 'isinf', 'isnan', 'ldexp', 'lgamma', 'log', 'log10', 'log1p', 'log2', 'modf', 'nan', 'pi', 'pow', 'radians', 'remainder', 'sin', 'sinh', 'sqrt', 'tan', 'tanh', 'tau', 'trunc']\n"
     ]
    }
   ],
   "source": [
    "print(dir(math))"
   ]
  },
  {
   "cell_type": "code",
   "execution_count": 3,
   "id": "6c79a39b",
   "metadata": {},
   "outputs": [
    {
     "name": "stdout",
     "output_type": "stream",
     "text": [
      "24\n"
     ]
    }
   ],
   "source": [
    "print(math.factorial(4))"
   ]
  },
  {
   "cell_type": "code",
   "execution_count": 18,
   "id": "2e0402dd",
   "metadata": {},
   "outputs": [],
   "source": [
    "import sample"
   ]
  },
  {
   "cell_type": "code",
   "execution_count": 19,
   "id": "82909fa4",
   "metadata": {},
   "outputs": [
    {
     "name": "stdout",
     "output_type": "stream",
     "text": [
      "['__builtins__', '__cached__', '__doc__', '__file__', '__loader__', '__name__', '__package__', '__spec__']\n"
     ]
    }
   ],
   "source": [
    "print(dir(sample))"
   ]
  },
  {
   "cell_type": "code",
   "execution_count": 1,
   "id": "901e0737",
   "metadata": {},
   "outputs": [],
   "source": [
    "import sample"
   ]
  },
  {
   "cell_type": "code",
   "execution_count": 2,
   "id": "0f69d805",
   "metadata": {},
   "outputs": [
    {
     "name": "stdout",
     "output_type": "stream",
     "text": [
      "['__builtins__', '__cached__', '__doc__', '__file__', '__loader__', '__name__', '__package__', '__spec__', 'a']\n"
     ]
    }
   ],
   "source": [
    "print(dir(sample))"
   ]
  },
  {
   "cell_type": "code",
   "execution_count": 3,
   "id": "1a82d346",
   "metadata": {},
   "outputs": [
    {
     "name": "stdout",
     "output_type": "stream",
     "text": [
      "100\n"
     ]
    }
   ],
   "source": [
    "print(sample.a)"
   ]
  },
  {
   "cell_type": "code",
   "execution_count": 1,
   "id": "c3a38006",
   "metadata": {},
   "outputs": [],
   "source": [
    "import first"
   ]
  },
  {
   "cell_type": "code",
   "execution_count": 2,
   "id": "e3370edf",
   "metadata": {},
   "outputs": [
    {
     "name": "stdout",
     "output_type": "stream",
     "text": [
      "teja\n",
      "hello good evening to all\n"
     ]
    }
   ],
   "source": [
    "print(first.k)\n",
    "print(first.j)"
   ]
  },
  {
   "cell_type": "code",
   "execution_count": 3,
   "id": "fc718e50",
   "metadata": {},
   "outputs": [],
   "source": [
    "from apssdc import demo"
   ]
  },
  {
   "cell_type": "code",
   "execution_count": 4,
   "id": "586f31a2",
   "metadata": {},
   "outputs": [
    {
     "name": "stdout",
     "output_type": "stream",
     "text": [
      "['__builtins__', '__cached__', '__doc__', '__file__', '__loader__', '__name__', '__package__', '__spec__', 'a', 'b', 'p']\n"
     ]
    }
   ],
   "source": [
    "print(dir(demo))"
   ]
  },
  {
   "cell_type": "code",
   "execution_count": 5,
   "id": "26fb15b5",
   "metadata": {},
   "outputs": [
    {
     "name": "stdout",
     "output_type": "stream",
     "text": [
      "['__builtins__', '__cached__', '__doc__', '__file__', '__loader__', '__name__', '__package__', '__spec__', 'a', 'b', 'p']\n"
     ]
    }
   ],
   "source": [
    "print(dir(demo))"
   ]
  },
  {
   "cell_type": "code",
   "execution_count": 8,
   "id": "ef5538fa",
   "metadata": {},
   "outputs": [
    {
     "name": "stdout",
     "output_type": "stream",
     "text": [
      "2000\n"
     ]
    }
   ],
   "source": [
    "print(demo.p)"
   ]
  },
  {
   "cell_type": "code",
   "execution_count": 9,
   "id": "48b66dc5",
   "metadata": {},
   "outputs": [
    {
     "name": "stdout",
     "output_type": "stream",
     "text": [
      "good evening\n"
     ]
    }
   ],
   "source": [
    "print(demo.b)"
   ]
  },
  {
   "cell_type": "code",
   "execution_count": 10,
   "id": "ef8ef040",
   "metadata": {},
   "outputs": [
    {
     "name": "stdout",
     "output_type": "stream",
     "text": [
      "20 2000 good evening\n"
     ]
    }
   ],
   "source": [
    "print(demo.a,demo.p,demo.b)"
   ]
  },
  {
   "cell_type": "code",
   "execution_count": 3,
   "id": "11f7c4de",
   "metadata": {},
   "outputs": [],
   "source": [
    "from apssdc import demo,teja"
   ]
  },
  {
   "cell_type": "code",
   "execution_count": 4,
   "id": "0f850a76",
   "metadata": {},
   "outputs": [
    {
     "name": "stdout",
     "output_type": "stream",
     "text": [
      "2000 teja\n"
     ]
    }
   ],
   "source": [
    "print(demo.p,teja.name)"
   ]
  },
  {
   "cell_type": "code",
   "execution_count": 7,
   "id": "b07e0e10",
   "metadata": {},
   "outputs": [],
   "source": [
    "from apssdc.CSE import first as a\n",
    "from apssdc.ECE import first as b"
   ]
  },
  {
   "cell_type": "code",
   "execution_count": 8,
   "id": "87b3a4d4",
   "metadata": {},
   "outputs": [
    {
     "name": "stdout",
     "output_type": "stream",
     "text": [
      "['__builtins__', '__cached__', '__doc__', '__file__', '__loader__', '__name__', '__package__', '__spec__', 'k']\n",
      "['E', '__builtins__', '__cached__', '__doc__', '__file__', '__loader__', '__name__', '__package__', '__spec__']\n"
     ]
    }
   ],
   "source": [
    "print(dir(a))\n",
    "print(dir(b))"
   ]
  },
  {
   "cell_type": "code",
   "execution_count": 9,
   "id": "dc83c0cd",
   "metadata": {},
   "outputs": [
    {
     "name": "stdout",
     "output_type": "stream",
     "text": [
      "i am from cse\n",
      "I am from ECE\n"
     ]
    }
   ],
   "source": [
    "print(a.k)\n",
    "print(b.E)"
   ]
  },
  {
   "cell_type": "code",
   "execution_count": 3,
   "id": "8f0a7726",
   "metadata": {},
   "outputs": [
    {
     "name": "stdout",
     "output_type": "stream",
     "text": [
      "10\n",
      "Even  numbers in a renge is: [0, 2, 4, 6, 8, 10]\n"
     ]
    }
   ],
   "source": [
    "from apssdc.Demo import kun\n",
    "y=int(input())\n",
    "print(\"Even  numbers in a renge is: {}\".format(kun.even(y)))"
   ]
  }
 ],
 "metadata": {
  "kernelspec": {
   "display_name": "Python 3",
   "language": "python",
   "name": "python3"
  },
  "language_info": {
   "codemirror_mode": {
    "name": "ipython",
    "version": 3
   },
   "file_extension": ".py",
   "mimetype": "text/x-python",
   "name": "python",
   "nbconvert_exporter": "python",
   "pygments_lexer": "ipython3",
   "version": "3.7.5"
  }
 },
 "nbformat": 4,
 "nbformat_minor": 5
}
