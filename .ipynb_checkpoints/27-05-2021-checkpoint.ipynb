{
 "cells": [
  {
   "cell_type": "markdown",
   "id": "fa836127",
   "metadata": {},
   "source": [
    "# Input:10\n",
    "output:1\n",
    "    19KQ1A0547\n",
    "    | | | | |\n",
    "    19KQ1A0556"
   ]
  },
  {
   "cell_type": "code",
   "execution_count": 17,
   "id": "d711e086",
   "metadata": {},
   "outputs": [
    {
     "name": "stdout",
     "output_type": "stream",
     "text": [
      "10\n",
      "19KQ1A0547\n",
      "19KQ1A0548\n",
      "19KQ1A0549\n",
      "19KQ1A0550\n",
      "19KQ1A0551\n",
      "19KQ1A0552\n",
      "19KQ1A0553\n",
      "19KQ1A0554\n",
      "19KQ1A0555\n",
      "19KQ1A0556\n",
      "19KQ1A0557\n",
      "19KQ1A0558\n",
      "19KQ1A0559\n",
      "19KQ1A0560\n",
      "19KQ1A0561\n",
      "19KQ1A0562\n",
      "19KQ1A0563\n",
      "19KQ1A0564\n"
     ]
    }
   ],
   "source": [
    "n=int(input())\n",
    "for j in range(47,65):\n",
    "    print(\"19KQ1A05{:02}\".format(j))"
   ]
  },
  {
   "cell_type": "markdown",
   "id": "ea5a24e5",
   "metadata": {},
   "source": [
    "## while -> unknown ranges,known ranges\n",
    "```\n",
    "    syntax:\n",
    "        variable init\n",
    "        while(condition):\n",
    "            \\\\stmt\n",
    "            \\\\inr/dec\n",
    "        \n",
    "```"
   ]
  },
  {
   "cell_type": "code",
   "execution_count": 1,
   "id": "1b2ec313",
   "metadata": {},
   "outputs": [
    {
     "name": "stdout",
     "output_type": "stream",
     "text": [
      "20\n",
      "20 19 18 17 16 15 14 13 12 11 "
     ]
    }
   ],
   "source": [
    "n=int(input())\n",
    "while n!=10:\n",
    "    print(n,end=\" \")\n",
    "    n=n-1"
   ]
  },
  {
   "cell_type": "code",
   "execution_count": 2,
   "id": "97d9d10d",
   "metadata": {},
   "outputs": [
    {
     "name": "stdout",
     "output_type": "stream",
     "text": [
      "10\n",
      "1 2 3 4 5 6 7 8 9 "
     ]
    }
   ],
   "source": [
    "m=int(input())\n",
    "i=1\n",
    "while m!=i:\n",
    "    print(i,end=\" \")\n",
    "    i=i+1"
   ]
  },
  {
   "cell_type": "markdown",
   "id": "1dec1497",
   "metadata": {},
   "source": [
    "```\n",
    "    n=1259\n",
    "    given number is:1259\n",
    "    reverse of a number is:9521\n",
    "    Given number 1259 and its reverse is:9521\n",
    "```"
   ]
  },
  {
   "cell_type": "code",
   "execution_count": 15,
   "id": "eecf1deb",
   "metadata": {},
   "outputs": [
    {
     "name": "stdout",
     "output_type": "stream",
     "text": [
      "125\n",
      "reverse of the number 125 is 521\n"
     ]
    }
   ],
   "source": [
    "n=int(input())\n",
    "reverse=0\n",
    "p=n\n",
    "while n>0:\n",
    "    reverse=reverse*10+n%10\n",
    "    n=n//10\n",
    "print(\"reverse of the number %d is %d\"%(p,reverse))\n",
    "    \n"
   ]
  },
  {
   "cell_type": "markdown",
   "id": "cd600c40",
   "metadata": {},
   "source": [
    "## Jumping statements:\n",
    "    - break->exit\n",
    "    - continue->skip \n",
    "    - pass->skip nothing will be provided\n",
    "    - return->value to be sent for functions"
   ]
  },
  {
   "cell_type": "code",
   "execution_count": 17,
   "id": "5df3f65e",
   "metadata": {},
   "outputs": [
    {
     "name": "stdout",
     "output_type": "stream",
     "text": [
      "10\n",
      "0,1,2,3,4,5,6,7,8,9,10,"
     ]
    }
   ],
   "source": [
    "n=int(input())\n",
    "for k in range(n+1):\n",
    "    print(k,end=\",\")"
   ]
  },
  {
   "cell_type": "code",
   "execution_count": 21,
   "id": "abeabdcf",
   "metadata": {},
   "outputs": [
    {
     "name": "stdout",
     "output_type": "stream",
     "text": [
      "10\n",
      "0,1,2,3,4,"
     ]
    }
   ],
   "source": [
    "n=int(input())\n",
    "for h in range(n):\n",
    "    if h==5:\n",
    "        break\n",
    "    else:\n",
    "        print(h,end=\",\")\n"
   ]
  },
  {
   "cell_type": "code",
   "execution_count": 22,
   "id": "51a5c8e7",
   "metadata": {},
   "outputs": [
    {
     "name": "stdout",
     "output_type": "stream",
     "text": [
      "11\n",
      "0,1,2,3,4,6,7,8,9,10,"
     ]
    }
   ],
   "source": [
    "n=int(input())\n",
    "for h in range(n):\n",
    "    if h==5:\n",
    "        continue\n",
    "    else:\n",
    "        print(h,end=\",\")\n"
   ]
  },
  {
   "cell_type": "code",
   "execution_count": 23,
   "id": "1b9e9a37",
   "metadata": {},
   "outputs": [
    {
     "name": "stdout",
     "output_type": "stream",
     "text": [
      "20\n",
      "0,1,2,3,4,5,6,7,8,9,11,12,13,14,15,16,17,18,19,"
     ]
    }
   ],
   "source": [
    "n=int(input())\n",
    "for h in range(n):\n",
    "    if h==10:\n",
    "        pass\n",
    "    else:\n",
    "        print(h,end=\",\")"
   ]
  },
  {
   "cell_type": "markdown",
   "id": "cef8ab2e",
   "metadata": {},
   "source": [
    "## inner loops:\n",
    "    - Loop with in a loop\n",
    "    \n",
    "```\n",
    "    syntax:\n",
    "        for i in range():\n",
    "            for j in range():\n",
    "                if(conditional-n):\n",
    "                    //stmt\n",
    "                else:\n",
    "                    //stmt\n",
    "            print(\"/n\")\n",
    "```"
   ]
  },
  {
   "cell_type": "markdown",
   "id": "c1d66c29",
   "metadata": {},
   "source": [
    "```\n",
    "    1-31\n",
    "    r-5\n",
    "    c-7\n",
    "    \n",
    "    step-1\n",
    "    01 02 03 04 05 06 07\n",
    "    08 09 10 11 12 13 14 \n",
    "    15 16 17 18 19 20 21\n",
    "    22 23 24 25 26 27 28\n",
    "    29 30 31\n",
    "```\n"
   ]
  },
  {
   "cell_type": "code",
   "execution_count": 26,
   "id": "780c81e9",
   "metadata": {},
   "outputs": [
    {
     "name": "stdout",
     "output_type": "stream",
     "text": [
      "1111111\n",
      "2222222\n",
      "3333333\n",
      "4444444\n",
      "5555555\n"
     ]
    }
   ],
   "source": [
    "for i in range(1,6):\n",
    "    for j in range(1,8):\n",
    "        print(i,end=\"\")\n",
    "    print(end=\"\\n\")"
   ]
  },
  {
   "cell_type": "code",
   "execution_count": 32,
   "id": "565539d9",
   "metadata": {},
   "outputs": [
    {
     "name": "stdout",
     "output_type": "stream",
     "text": [
      "1 2 3 4 5 6 7 8 9 10 11 12 13 14 15 16 17 18 19 20 21 22 23 24 25 26 27 28 29 30 31 "
     ]
    }
   ],
   "source": [
    "a=1\n",
    "for i in range(1,6):\n",
    "    for j in range(1,8):\n",
    "        if a<=31:\n",
    "            print(a,end=\" \")\n",
    "        else:\n",
    "            break\n",
    "        a=a+1\n",
    "    print(end=\"\")"
   ]
  },
  {
   "cell_type": "code",
   "execution_count": 37,
   "id": "a1c1689e",
   "metadata": {},
   "outputs": [
    {
     "name": "stdout",
     "output_type": "stream",
     "text": [
      "* ** * ** * ** *  ** * ** * ** * **  * ** * ** * ** *  ** * ** * ** * **  * ** *  "
     ]
    }
   ],
   "source": [
    "a=1\n",
    "for i in range(1,6):\n",
    "    for j in range(1,8):\n",
    "        if a<=31:\n",
    "            if a%2==0:\n",
    "                print(\"**\",end=\" \")\n",
    "            else:\n",
    "                print(\"*\",end=\" \")\n",
    "        else:\n",
    "            break\n",
    "        a=a+1\n",
    "    print(end=\" \")"
   ]
  }
 ],
 "metadata": {
  "kernelspec": {
   "display_name": "Python 3",
   "language": "python",
   "name": "python3"
  },
  "language_info": {
   "codemirror_mode": {
    "name": "ipython",
    "version": 3
   },
   "file_extension": ".py",
   "mimetype": "text/x-python",
   "name": "python",
   "nbconvert_exporter": "python",
   "pygments_lexer": "ipython3",
   "version": "3.7.5"
  }
 },
 "nbformat": 4,
 "nbformat_minor": 5
}
