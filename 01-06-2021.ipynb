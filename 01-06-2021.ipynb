{
 "cells": [
  {
   "cell_type": "markdown",
   "id": "a8b2dc41",
   "metadata": {},
   "source": [
    "#  Python Data structures:\n",
    "    -list\n",
    "    -tuple\n",
    "    -set\n",
    "    -dictionary"
   ]
  },
  {
   "cell_type": "markdown",
   "id": "8f3c2b19",
   "metadata": {},
   "source": [
    "## Python Iterators,data types,data structures\n"
   ]
  },
  {
   "cell_type": "markdown",
   "id": "2be16260",
   "metadata": {},
   "source": [
    "## list:\n",
    "    -it can stores different type elements\n",
    "    -it can be represented as \"[]\" and type casting a \"list()\"\n",
    "    -it consists of index so slicing can be done\n",
    "    -it stores the value in given format\n",
    "    -in this the value can be changed"
   ]
  },
  {
   "cell_type": "markdown",
   "id": "9de34f7c",
   "metadata": {},
   "source": [
    "# Tuple:\n",
    "    -it can stores different data type elements\n",
    "    -it can be defined as \"()\" and type casting as \"tuple()'\n",
    "    -It consists of index and slicing can be done\n",
    "    -It stores the value in given format\n",
    "    -in this the values cannot be changed\n",
    "    "
   ]
  },
  {
   "cell_type": "markdown",
   "id": "29f1c3af",
   "metadata": {},
   "source": [
    "## set:\n",
    "    -It can stores different data type elements\n",
    "    -It can be defined as \"{}\" and typecasting as \"set()\" => {a} => set\n",
    "    - It doesnt contains of index and slicing cant be done\n",
    "    - in this the values can be changed\n",
    "    -It cant stores the duplicate elements"
   ]
  },
  {
   "cell_type": "markdown",
   "id": "331dfc86",
   "metadata": {},
   "source": [
    "## dictionary:\n",
    "    -It can stores the different data type elements but it folloes ket and value pairs\n",
    "    -it can be defined as \"{}\" by default and type casting as \"dict()'\n",
    "    -It consists of index but it can be applicable for either keys or values and slicing can be done\n",
    "    -It stores the value in given format\n",
    "    -In this the values can be changed\n",
    "    -It cant stores the duplicate keys but it can stores duplicate values\n",
    "    "
   ]
  },
  {
   "cell_type": "markdown",
   "id": "c7a29583",
   "metadata": {},
   "source": [
    "# List:"
   ]
  },
  {
   "cell_type": "code",
   "execution_count": 3,
   "id": "33862e26",
   "metadata": {},
   "outputs": [
    {
     "name": "stdout",
     "output_type": "stream",
     "text": [
      "[1, 21, 'tej', 2.11, 'NV'] <class 'list'>\n"
     ]
    }
   ],
   "source": [
    "k=[1,21,\"tej\",2.11,'NV']\n",
    "print(k,type(k))"
   ]
  },
  {
   "cell_type": "code",
   "execution_count": 5,
   "id": "026c2561",
   "metadata": {},
   "outputs": [
    {
     "name": "stdout",
     "output_type": "stream",
     "text": [
      "tej\n",
      "2.11\n"
     ]
    }
   ],
   "source": [
    "print(k[2])\n",
    "print(k[-2])"
   ]
  },
  {
   "cell_type": "code",
   "execution_count": 7,
   "id": "98216497",
   "metadata": {},
   "outputs": [
    {
     "name": "stdout",
     "output_type": "stream",
     "text": [
      "['__add__', '__class__', '__contains__', '__delattr__', '__delitem__', '__dir__', '__doc__', '__eq__', '__format__', '__ge__', '__getattribute__', '__getitem__', '__gt__', '__hash__', '__iadd__', '__imul__', '__init__', '__init_subclass__', '__iter__', '__le__', '__len__', '__lt__', '__mul__', '__ne__', '__new__', '__reduce__', '__reduce_ex__', '__repr__', '__reversed__', '__rmul__', '__setattr__', '__setitem__', '__sizeof__', '__str__', '__subclasshook__', 'append', 'clear', 'copy', 'count', 'extend', 'index', 'insert', 'pop', 'remove', 'reverse', 'sort']\n"
     ]
    }
   ],
   "source": [
    "print(dir(k))"
   ]
  },
  {
   "cell_type": "code",
   "execution_count": 9,
   "id": "b3925199",
   "metadata": {},
   "outputs": [
    {
     "name": "stdout",
     "output_type": "stream",
     "text": [
      "[45, 78, 56]\n",
      "23.3\n",
      "[45, 78, 56, '23.3']\n"
     ]
    }
   ],
   "source": [
    "m=[45,78,56]\n",
    "print(m)\n",
    "n=input()\n",
    "m.append(n)\n",
    "print(m)\n"
   ]
  },
  {
   "cell_type": "code",
   "execution_count": 13,
   "id": "c0514ce0",
   "metadata": {},
   "outputs": [
    {
     "name": "stdout",
     "output_type": "stream",
     "text": [
      "['tharun', 45, 148, 45.2] <class 'list'>\n",
      "['tharun', 45, 148, 45.2]\n",
      "['tharun', 45, 148, 45.2, 'prasad']\n",
      "['tharun', 45, 148, 45.2]\n",
      "['tharun', 45, 148, 45.2, 'prasad']\n",
      "['tharun', 45, 148, 45.2, 'kumar']\n"
     ]
    }
   ],
   "source": [
    "n=[\"tharun\",45,148,45.2]\n",
    "b=n.copy()\n",
    "print(b,type(b))\n",
    "print(n)\n",
    "n.append(\"prasad\")\n",
    "print(n)\n",
    "print(b)\n",
    "b.append(\"kumar\")\n",
    "print(n)\n",
    "print(b)"
   ]
  },
  {
   "cell_type": "code",
   "execution_count": 21,
   "id": "2ee6d67b",
   "metadata": {},
   "outputs": [
    {
     "name": "stdout",
     "output_type": "stream",
     "text": [
      "0\n",
      "2\n",
      "12 count is: 2\n",
      "15 count is: 1\n",
      "12 count is: 2\n",
      "78 count is: 1\n",
      "somu count is: 1\n",
      "89 count is: 1\n",
      "Kiran count is: 1\n"
     ]
    }
   ],
   "source": [
    "p=[12,15,12,78,'somu',89,'Kiran']\n",
    "print(p.count(1))\n",
    "print(p.count(12))\n",
    "for n in p:\n",
    "    print(\"{} count is: {}\".format(n,p.count(n)))"
   ]
  },
  {
   "cell_type": "code",
   "execution_count": 20,
   "id": "f0f78fdc",
   "metadata": {},
   "outputs": [
    {
     "name": "stdout",
     "output_type": "stream",
     "text": [
      "0\n",
      "1\n",
      "2\n",
      "3\n",
      "4\n",
      "5\n",
      "6\n"
     ]
    }
   ],
   "source": [
    "for b in range(len(p)):\n",
    "    print(b)"
   ]
  },
  {
   "cell_type": "code",
   "execution_count": 24,
   "id": "fe25bd00",
   "metadata": {},
   "outputs": [
    {
     "data": {
      "text/plain": [
       "5"
      ]
     },
     "execution_count": 24,
     "metadata": {},
     "output_type": "execute_result"
    }
   ],
   "source": [
    "p.index(89)"
   ]
  },
  {
   "cell_type": "code",
   "execution_count": 25,
   "id": "0ba6d702",
   "metadata": {},
   "outputs": [
    {
     "name": "stdout",
     "output_type": "stream",
     "text": [
      "[12, 'tej', 15, 19, 750]\n"
     ]
    }
   ],
   "source": [
    "x=[12,15,19,750]\n",
    "x.insert(1,'tej')\n",
    "print(x)"
   ]
  },
  {
   "cell_type": "code",
   "execution_count": 27,
   "id": "f01ad625",
   "metadata": {},
   "outputs": [
    {
     "data": {
      "text/plain": [
       "'tej'"
      ]
     },
     "execution_count": 27,
     "metadata": {},
     "output_type": "execute_result"
    }
   ],
   "source": [
    "x.pop(1)"
   ]
  },
  {
   "cell_type": "code",
   "execution_count": 28,
   "id": "5e32dc75",
   "metadata": {},
   "outputs": [
    {
     "name": "stdout",
     "output_type": "stream",
     "text": [
      "[12, 15, 19]\n"
     ]
    }
   ],
   "source": [
    "print(x)"
   ]
  },
  {
   "cell_type": "code",
   "execution_count": 30,
   "id": "f7904682",
   "metadata": {},
   "outputs": [
    {
     "name": "stdout",
     "output_type": "stream",
     "text": [
      "['abdul', 'tilak', 'ramu', 'zeeshan']\n",
      "['abdul', 'ramu', 'tilak', 'zeeshan']\n"
     ]
    }
   ],
   "source": [
    "s=[\"abdul\",\"tilak\",\"ramu\",\"zeeshan\"]\n",
    "print(s)\n",
    "s.sort()\n",
    "print(s)"
   ]
  },
  {
   "cell_type": "code",
   "execution_count": 31,
   "id": "b1387dc5",
   "metadata": {},
   "outputs": [
    {
     "name": "stdout",
     "output_type": "stream",
     "text": [
      "['abdul', 'ramu', 'tilak', 'zeeshan']\n"
     ]
    }
   ],
   "source": [
    "sorted(s)\n",
    "print(s)"
   ]
  },
  {
   "cell_type": "code",
   "execution_count": 32,
   "id": "0caa2040",
   "metadata": {},
   "outputs": [
    {
     "name": "stdout",
     "output_type": "stream",
     "text": [
      "[45, 4, 400]\n",
      "[4, 45, 400]\n"
     ]
    }
   ],
   "source": [
    "d=[45,4,400]\n",
    "f=sorted(d)\n",
    "print(d)\n",
    "print(f)"
   ]
  },
  {
   "cell_type": "code",
   "execution_count": 33,
   "id": "f2eb05ef",
   "metadata": {},
   "outputs": [
    {
     "name": "stdout",
     "output_type": "stream",
     "text": [
      "[45, 4, 400]\n",
      "[]\n"
     ]
    }
   ],
   "source": [
    "print(d)\n",
    "d.clear()\n",
    "print(d)"
   ]
  },
  {
   "cell_type": "code",
   "execution_count": 35,
   "id": "b69c0c7f",
   "metadata": {},
   "outputs": [
    {
     "name": "stdout",
     "output_type": "stream",
     "text": [
      "[45, 78, 97]\n"
     ]
    },
    {
     "ename": "NameError",
     "evalue": "name 'f' is not defined",
     "output_type": "error",
     "traceback": [
      "\u001b[1;31m---------------------------------------------------------------------------\u001b[0m",
      "\u001b[1;31mNameError\u001b[0m                                 Traceback (most recent call last)",
      "\u001b[1;32m<ipython-input-35-f2255c12157b>\u001b[0m in \u001b[0;36m<module>\u001b[1;34m\u001b[0m\n\u001b[0;32m      2\u001b[0m \u001b[0mprint\u001b[0m\u001b[1;33m(\u001b[0m\u001b[0mf\u001b[0m\u001b[1;33m)\u001b[0m\u001b[1;33m\u001b[0m\u001b[1;33m\u001b[0m\u001b[0m\n\u001b[0;32m      3\u001b[0m \u001b[1;32mdel\u001b[0m \u001b[0mf\u001b[0m\u001b[1;33m\u001b[0m\u001b[1;33m\u001b[0m\u001b[0m\n\u001b[1;32m----> 4\u001b[1;33m \u001b[0mprint\u001b[0m\u001b[1;33m(\u001b[0m\u001b[0mf\u001b[0m\u001b[1;33m)\u001b[0m\u001b[1;33m\u001b[0m\u001b[1;33m\u001b[0m\u001b[0m\n\u001b[0m",
      "\u001b[1;31mNameError\u001b[0m: name 'f' is not defined"
     ]
    }
   ],
   "source": [
    "f=[45,78,97]\n",
    "print(f)\n",
    "del f\n",
    "print(f)"
   ]
  },
  {
   "cell_type": "markdown",
   "id": "a3857ec4",
   "metadata": {},
   "source": [
    "# Tuple:"
   ]
  },
  {
   "cell_type": "code",
   "execution_count": 36,
   "id": "8ab2f0b7",
   "metadata": {},
   "outputs": [
    {
     "name": "stdout",
     "output_type": "stream",
     "text": [
      "(12, 48, 79.5678, 'tharun') <class 'tuple'>\n"
     ]
    }
   ],
   "source": [
    "s=(12,48,79.5678,\"tharun\")\n",
    "print(s,type(s))"
   ]
  },
  {
   "cell_type": "code",
   "execution_count": 37,
   "id": "f373087f",
   "metadata": {},
   "outputs": [
    {
     "name": "stdout",
     "output_type": "stream",
     "text": [
      "['__add__', '__class__', '__contains__', '__delattr__', '__dir__', '__doc__', '__eq__', '__format__', '__ge__', '__getattribute__', '__getitem__', '__getnewargs__', '__gt__', '__hash__', '__init__', '__init_subclass__', '__iter__', '__le__', '__len__', '__lt__', '__mul__', '__ne__', '__new__', '__reduce__', '__reduce_ex__', '__repr__', '__rmul__', '__setattr__', '__sizeof__', '__str__', '__subclasshook__', 'count', 'index']\n"
     ]
    }
   ],
   "source": [
    "print(dir(tuple))"
   ]
  },
  {
   "cell_type": "code",
   "execution_count": 38,
   "id": "26db0379",
   "metadata": {},
   "outputs": [
    {
     "name": "stdout",
     "output_type": "stream",
     "text": [
      "(12, 48, 79.5678, 'tharun')\n",
      "1\n",
      "(12, 48, 79.5678, 'tharun')\n"
     ]
    }
   ],
   "source": [
    "print(s)\n",
    "print(s.count(12))\n",
    "print(s)"
   ]
  },
  {
   "cell_type": "code",
   "execution_count": 39,
   "id": "baa65aa8",
   "metadata": {},
   "outputs": [
    {
     "data": {
      "text/plain": [
       "1"
      ]
     },
     "execution_count": 39,
     "metadata": {},
     "output_type": "execute_result"
    }
   ],
   "source": [
    "s.index(48)"
   ]
  },
  {
   "cell_type": "code",
   "execution_count": 41,
   "id": "52bbf4ab",
   "metadata": {},
   "outputs": [
    {
     "name": "stdout",
     "output_type": "stream",
     "text": [
      "[45, 78, 12, 9, 56] <class 'list'>\n",
      "(9, 12, 45, 56, 78)\n"
     ]
    }
   ],
   "source": [
    "p=(45,78,12,9,56)\n",
    "d=list(p)\n",
    "print(d,type(d))\n",
    "d.sort()\n",
    "q=tuple(d)\n",
    "print(q)"
   ]
  },
  {
   "cell_type": "code",
   "execution_count": null,
   "id": "d6dd2a94",
   "metadata": {},
   "outputs": [],
   "source": []
  }
 ],
 "metadata": {
  "kernelspec": {
   "display_name": "Python 3",
   "language": "python",
   "name": "python3"
  },
  "language_info": {
   "codemirror_mode": {
    "name": "ipython",
    "version": 3
   },
   "file_extension": ".py",
   "mimetype": "text/x-python",
   "name": "python",
   "nbconvert_exporter": "python",
   "pygments_lexer": "ipython3",
   "version": "3.7.5"
  }
 },
 "nbformat": 4,
 "nbformat_minor": 5
}
